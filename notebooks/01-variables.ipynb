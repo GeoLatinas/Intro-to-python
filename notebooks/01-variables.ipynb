{
 "cells": [
  {
   "cell_type": "markdown",
   "metadata": {},
   "source": [
    "# Variables"
   ]
  },
  {
   "cell_type": "markdown",
   "metadata": {},
   "source": [
    "Usar **variables** nos permite _guardar_ valores bajo determinados nombres.\n",
    "Por ejemplo, asignemos una cantidad hipotética de alumnes a una variable y el nombre del curso en otra."
   ]
  },
  {
   "cell_type": "code",
   "execution_count": null,
   "metadata": {},
   "outputs": [],
   "source": [
    "n_alumnes = 12\n",
    "curso = \"Geolatinas: Introduccion a Python\""
   ]
  },
  {
   "cell_type": "markdown",
   "metadata": {},
   "source": [
    "Podemos hacer uso de la función `print` para examinar los valores asignados a cada variable."
   ]
  },
  {
   "cell_type": "code",
   "execution_count": null,
   "metadata": {},
   "outputs": [],
   "source": [
    "print(n_alumnes)\n",
    "print(curso)"
   ]
  },
  {
   "cell_type": "markdown",
   "metadata": {},
   "source": [
    "También podemos pasar múltiples **argumentos** a la **función** `print`."
   ]
  },
  {
   "cell_type": "code",
   "execution_count": null,
   "metadata": {},
   "outputs": [],
   "source": [
    "print(\"El curso\", curso, \"posee\", n_alumnes, \"alumnes.\")"
   ]
  },
  {
   "cell_type": "markdown",
   "metadata": {},
   "source": [
    "Observemos que los valores de las variables persisten en nuevas celdas: JupyterLab \"recuerda\" los valores de las variables asignadas en celdas anteriores."
   ]
  },
  {
   "cell_type": "markdown",
   "metadata": {},
   "source": [
    "Las variables numéricas pueden ser utilizadas para realizar cálculos."
   ]
  },
  {
   "cell_type": "code",
   "execution_count": null,
   "metadata": {},
   "outputs": [],
   "source": [
    "nuevos_alumnes = 3\n",
    "n_alumnes = n_alumnes + nuevos_alumnes\n",
    "print(\"Ahora el curso posee\", n_alumnes, \"alumnes.\")"
   ]
  },
  {
   "cell_type": "markdown",
   "metadata": {},
   "source": [
    "## Tipos\n",
    "\n",
    "No todas las variables son del mismo tipo. Por ejemplo, `n_alumnes` guarda valores numéricos enteros, mientras que `curso` guarda un _texto_.\n",
    "\n",
    "Algunos tipos de variables que podemos nombrar son:\n",
    "- _strings_ (`str`): cadena de caracteres\n",
    "- _integers_ (`int`): números enteros\n",
    "- _floats_ (`float`): valores de punto flotante (representación aproximada de números reales).\n",
    "    "
   ]
  },
  {
   "cell_type": "code",
   "execution_count": null,
   "metadata": {},
   "outputs": [],
   "source": [
    "nombre = \"Emmy Noether\"\n",
    "cantidad_de_becaries = 16\n",
    "temperatura_celsius = 20.3"
   ]
  },
  {
   "cell_type": "code",
   "execution_count": null,
   "metadata": {},
   "outputs": [],
   "source": [
    "type(nombre)"
   ]
  },
  {
   "cell_type": "code",
   "execution_count": null,
   "metadata": {},
   "outputs": [],
   "source": [
    "type(cantidad_de_becaries)"
   ]
  },
  {
   "cell_type": "code",
   "execution_count": null,
   "metadata": {},
   "outputs": [],
   "source": [
    "type(temperatura_celsius)"
   ]
  },
  {
   "cell_type": "markdown",
   "metadata": {},
   "source": [
    "## Modificando variables\n",
    "\n",
    "Una vez que definimos el valor de una variable, lo podemos modificar a nuestro antojo."
   ]
  },
  {
   "cell_type": "code",
   "execution_count": null,
   "metadata": {},
   "outputs": [],
   "source": [
    "altura = 57.9\n",
    "print(altura)"
   ]
  },
  {
   "cell_type": "code",
   "execution_count": null,
   "metadata": {},
   "outputs": [],
   "source": [
    "altura = 3.4\n",
    "print(altura)"
   ]
  },
  {
   "cell_type": "markdown",
   "metadata": {},
   "source": [
    "Además, Python es un lenguaje de _tipado dinámico_ (**dynamically typed** language), es decir que podemos guardar valores de diferente tipo en una variable predefinida. Por ejmeplo, nuestra variable `altura` es un `float`, pero podemos sobrescribirla con, por ejemplo, un `int`."
   ]
  },
  {
   "cell_type": "code",
   "execution_count": null,
   "metadata": {},
   "outputs": [],
   "source": [
    "type(altura)"
   ]
  },
  {
   "cell_type": "code",
   "execution_count": null,
   "metadata": {},
   "outputs": [],
   "source": [
    "altura = 4"
   ]
  },
  {
   "cell_type": "code",
   "execution_count": null,
   "metadata": {},
   "outputs": [],
   "source": [
    "type(altura)"
   ]
  },
  {
   "cell_type": "markdown",
   "metadata": {},
   "source": [
    "O un `str`:"
   ]
  },
  {
   "cell_type": "code",
   "execution_count": null,
   "metadata": {},
   "outputs": [],
   "source": [
    "altura = \"metros\""
   ]
  },
  {
   "cell_type": "code",
   "execution_count": null,
   "metadata": {},
   "outputs": [],
   "source": [
    "type(altura)"
   ]
  },
  {
   "cell_type": "markdown",
   "metadata": {},
   "source": [
    "### Formative assessment 1\n",
    "\n",
    "¿Cual será el output de la siguiente celda?\n",
    "\n",
    "1. `int`\n",
    "2. `float`\n",
    "3. `str`"
   ]
  },
  {
   "cell_type": "code",
   "execution_count": null,
   "metadata": {},
   "outputs": [],
   "source": [
    "channel = \"coding-group\"\n",
    "type(channel)"
   ]
  },
  {
   "cell_type": "markdown",
   "metadata": {},
   "source": [
    "### Formative assessment 2\n",
    "\n",
    "¿Cual será el output de la siguiente celda?\n",
    "\n",
    "1. `int`\n",
    "2. `float`\n",
    "3. `str`"
   ]
  },
  {
   "cell_type": "code",
   "execution_count": null,
   "metadata": {},
   "outputs": [],
   "source": [
    "densidad_agua = 1000.0\n",
    "type(densidad_agua)"
   ]
  },
  {
   "cell_type": "markdown",
   "metadata": {},
   "source": [
    "### Formative assessment 3\n",
    "\n",
    "¿Cual será el output de la siguiente celda?\n",
    "\n",
    "1. `Volumen inicial: 6 Volumen: 6`\n",
    "2. `Volumen inicial: 4 Volumen: 6`\n",
    "3. `Volumen inicial: 4 Volumen: 4`"
   ]
  },
  {
   "cell_type": "code",
   "execution_count": null,
   "metadata": {},
   "outputs": [],
   "source": [
    "volumen = 4\n",
    "volumen_inicial = volumen\n",
    "volumen = 6\n",
    "print(\"Volumen inicial:\", volumen_inicial, \"Volumen:\", volumen)"
   ]
  },
  {
   "cell_type": "markdown",
   "metadata": {},
   "source": [
    "## Operaciones"
   ]
  },
  {
   "cell_type": "markdown",
   "metadata": {},
   "source": [
    "Podemos aplicar diferentes operaciones matemáticas a las variables.\n",
    "\n",
    "Medimos una determinada variable geofísica a una altura de 53.2 metros sobre el nivel del mar:"
   ]
  },
  {
   "cell_type": "code",
   "execution_count": null,
   "metadata": {},
   "outputs": [],
   "source": [
    "altura_medicion = 53.2"
   ]
  },
  {
   "cell_type": "markdown",
   "metadata": {},
   "source": [
    "**Suma**"
   ]
  },
  {
   "cell_type": "code",
   "execution_count": null,
   "metadata": {},
   "outputs": [],
   "source": [
    "altura_medicion + 10.6"
   ]
  },
  {
   "cell_type": "markdown",
   "metadata": {},
   "source": [
    "**Producto**"
   ]
  },
  {
   "cell_type": "code",
   "execution_count": null,
   "metadata": {},
   "outputs": [],
   "source": [
    "altura_medicion * 2"
   ]
  },
  {
   "cell_type": "markdown",
   "metadata": {},
   "source": [
    "**División**"
   ]
  },
  {
   "cell_type": "code",
   "execution_count": null,
   "metadata": {},
   "outputs": [],
   "source": [
    "altura_medicion /  3.0"
   ]
  },
  {
   "cell_type": "code",
   "execution_count": null,
   "metadata": {},
   "outputs": [],
   "source": [
    "5 / 2"
   ]
  },
  {
   "cell_type": "markdown",
   "metadata": {},
   "source": [
    "**División entera**"
   ]
  },
  {
   "cell_type": "code",
   "execution_count": null,
   "metadata": {},
   "outputs": [],
   "source": [
    "5 // 2"
   ]
  },
  {
   "cell_type": "markdown",
   "metadata": {},
   "source": [
    "**Potencia**"
   ]
  },
  {
   "cell_type": "code",
   "execution_count": null,
   "metadata": {},
   "outputs": [],
   "source": [
    "5 ** 3"
   ]
  },
  {
   "cell_type": "markdown",
   "metadata": {},
   "source": [
    "**Concatenación de strings**"
   ]
  },
  {
   "cell_type": "code",
   "execution_count": null,
   "metadata": {},
   "outputs": [],
   "source": [
    "saludo = \"hola\" + \" \" + \"mundo\"\n",
    "print(saludo)"
   ]
  },
  {
   "cell_type": "markdown",
   "metadata": {},
   "source": [
    "Los resultados de cada una de estas operaciones pueden ser guardados en variables:"
   ]
  },
  {
   "cell_type": "code",
   "execution_count": null,
   "metadata": {},
   "outputs": [],
   "source": [
    "altura_doble = altura_medicion * 2"
   ]
  },
  {
   "cell_type": "code",
   "execution_count": null,
   "metadata": {},
   "outputs": [],
   "source": [
    "altura_doble"
   ]
  },
  {
   "cell_type": "markdown",
   "metadata": {},
   "source": [
    "### Formative assessment 4\n",
    "\n",
    "¿Cual será el output de la siguiente celda?\n",
    "\n",
    "1. 30.0\n",
    "2. 90.0\n",
    "3. 70.0"
   ]
  },
  {
   "cell_type": "code",
   "execution_count": null,
   "metadata": {},
   "outputs": [],
   "source": [
    "angulo = 30.090\n",
    "media_vuelta = 180\n",
    "angulo = angulo + media_vuelta / 3\n",
    "print(angulo)"
   ]
  },
  {
   "cell_type": "markdown",
   "metadata": {},
   "source": [
    "## Observaciones"
   ]
  },
  {
   "cell_type": "markdown",
   "metadata": {},
   "source": [
    "Python es sensible a mayúsculas y minúsculas"
   ]
  },
  {
   "cell_type": "code",
   "execution_count": null,
   "metadata": {},
   "outputs": [],
   "source": [
    "Temperatura = 21.3\n",
    "temperatura = 19.5\n",
    "print(\"Temperatura:\", Temperatura)\n",
    "print(\"temperatura:\", temperatura)"
   ]
  },
  {
   "cell_type": "markdown",
   "metadata": {},
   "source": [
    "### Best practices\n",
    "\n",
    "Una buena práctica a la hora de escribir código es elegir nombres de variables que sean legibles y tengan un significado con el valor que guardan.\n",
    "Por ejemplo, es mejor definir valores de temperatura como lo hicimos antes que utilizar variables como `t` o `temp`.\n"
   ]
  },
  {
   "cell_type": "markdown",
   "metadata": {},
   "source": [
    "Las siguientes trés líneas realizan la misma tarea, pero ¿cuál te resulta más sencillo de comprender?\n",
    "\n",
    "A:\n",
    "```python\n",
    "ts = m * 60 + s\n",
    "```\n",
    "\n",
    "B:\n",
    "```python\n",
    "tot_sec = min * 60 + sec\n",
    "```\n",
    "\n",
    "C:\n",
    "```python\n",
    "total_seconds = minutes * 60 + seconds\n",
    "```"
   ]
  },
  {
   "cell_type": "markdown",
   "metadata": {},
   "source": [
    "### Discusión\n",
    "\n",
    "¿Qué sucede si ejecutamos la siguiente celda?"
   ]
  },
  {
   "cell_type": "code",
   "execution_count": null,
   "metadata": {},
   "outputs": [],
   "source": [
    "g = 9.8\n",
    "Altura = 5.6\n",
    "masa = 3\n",
    "energia_potencial = masa * altura * g\n",
    "print(energia_potencial)"
   ]
  },
  {
   "cell_type": "markdown",
   "metadata": {},
   "source": [
    "## Ejercicio 1\n",
    "\n",
    "Un colega de Estados Unidos nos ha compartido la siguiente medición de temperatura de suelo dada en Fahrenheit:\n",
    "\n",
    "$$ T = 30.3 ^\\circ\\text{F} $$\n",
    "\n",
    "Conviertan este valor a grados Celsius, sabiendo que:\n",
    "\n",
    "$$ [^\\circ\\text{C}] = \\frac{5}{9} ([^\\circ\\text{F}] - 32) $$\n",
    "\n",
    "Requerimientos:\n",
    "- Asignar el dato recibido a una variable.\n",
    "- Aplicar la transformación de unidades usando esta variable.\n",
    "- Guardar el dato en Celsius en otra variable.\n",
    "- Utilizar la función `print` para mostrar ambos resultados.\n",
    "- Utilizar nombres de variables siguiendo las best-practices."
   ]
  },
  {
   "cell_type": "markdown",
   "metadata": {},
   "source": [
    "## Ejercicio 2\n",
    "\n",
    "Supongamos que tenemos una partícula viajando por el espacio. Su energía cinética en cualquier instante puede expresarse como:\n",
    "\n",
    "$$ E_c = \\frac{1}{2} m v^2,$$\n",
    "\n",
    "donde $E_c$ es la energía cinética, $m$ la masa de la partícula y $v$ el módulo de su velocidad en ese instante.\n",
    "\n",
    "1. Escribe un código que permita calcular la energía de una partícula de 10kg que viaja a 3.5m/s.\n",
    "\n",
    "Recuerda:\n",
    "- Asignar la masa y la velocidad de la partícula a dos variables diferentes.\n",
    "- Calcular la energía cinética haciendo uso de esas variables.\n",
    "- Almacenar la energía cinética en una nueva variable.\n",
    "- Utilizar la función `print` para mostrar el resultado.\n",
    "- Utilizar nombres de variables siguiendo las best-practices."
   ]
  }
 ],
 "metadata": {
  "kernelspec": {
   "display_name": "Python 3",
   "language": "python",
   "name": "python3"
  },
  "language_info": {
   "codemirror_mode": {
    "name": "ipython",
    "version": 3
   },
   "file_extension": ".py",
   "mimetype": "text/x-python",
   "name": "python",
   "nbconvert_exporter": "python",
   "pygments_lexer": "ipython3",
   "version": "3.8.6"
  }
 },
 "nbformat": 4,
 "nbformat_minor": 4
}
