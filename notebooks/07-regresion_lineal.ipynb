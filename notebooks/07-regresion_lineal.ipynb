{
 "cells": [
  {
   "cell_type": "markdown",
   "metadata": {},
   "source": [
    "# Análisis de datos: Regresión Lineal\n",
    "\n",
    "El análisis y modelado de datos se basa principalmente en hallar las relaciones entre determinadas variables.\n",
    "Para ello obtenemos valores de dichas variables a través de procesos de medición.\n",
    "Luego es necesario inspeccionarlos, para más tarde modelarlos, es decir, intentar hallar una función que los relaciona.\n",
    "\n",
    "Por ejemplo, consideremos los datos de presión sanguinea vs. la edad de las personas que podemos encontrar en el archivo `blood_pressure.txt`."
   ]
  },
  {
   "cell_type": "markdown",
   "metadata": {},
   "source": [
    "Importamos librerias"
   ]
  },
  {
   "cell_type": "code",
   "execution_count": 1,
   "metadata": {},
   "outputs": [],
   "source": [
    "import numpy as np\n",
    "import matplotlib.pyplot as plt"
   ]
  },
  {
   "cell_type": "markdown",
   "metadata": {},
   "source": [
    "Leemos los datos"
   ]
  },
  {
   "cell_type": "code",
   "execution_count": 3,
   "metadata": {},
   "outputs": [],
   "source": [
    "edad, presion = np.loadtxt(\"blood_pressure.txt\", unpack=True)"
   ]
  },
  {
   "cell_type": "markdown",
   "metadata": {},
   "source": [
    "Visualización de datos\n",
    "\n",
    "En este caso, ya que los datos son valores _dispersos_, haremos uso de la función `pyplot.scatter` para graficarlos:"
   ]
  },
  {
   "cell_type": "code",
   "execution_count": 9,
   "metadata": {},
   "outputs": [
    {
     "data": {
      "image/png": "[encoded data removed]",
      "text/plain": [
       "<Figure size 432x288 with 1 Axes>"
      ]
     },
     "metadata": {
      "needs_background": "light"
     },
     "output_type": "display_data"
    }
   ],
   "source": [
    "plt.scatter(edad, presion)\n",
    "plt.ylim(0, 200)\n",
    "plt.xlabel(\"Edad [años]\")\n",
    "plt.ylabel(\"Presión Sanguinea [mmHg]\")\n",
    "plt.show()"
   ]
  },
  {
   "cell_type": "markdown",
   "metadata": {},
   "source": [
    "A través de la visualización de los datos podemos intuir que existe una relación entre ambas variables. En caso de querer estimar cuál será la presión sanguinea para una edad arbitraria, necesitamos conocer está relación. Para ello necesitamos **modelar** los datos."
   ]
  },
  {
   "cell_type": "markdown",
   "metadata": {},
   "source": [
    "## Regresión Lineal\n",
    "\n",
    "Inicialmente podemos suponer (basado en la visualización de los datos), que  la presión sanguinea se comporta linealmente con la edad de las personas.\n",
    "Es decir, que podemos escribir a la presión sanguinea en función de la edad de la siguiente manera:\n",
    "\n",
    "$$ \\text{presion}(\\text{edad}) = A \\cdot \\text{edad} + B $$\n",
    "\n",
    "Donde $A$ y $B$ son parámetros que desconocemos.\n",
    "Una forma de estimarlos es realizar una **regresión lineal**, la cual consiste en conseguir aquella recta que mejor ajusta a nuestros datos.\n",
    "\n",
    "Esto se puede realizar a través de la función `linregress` de `scipy.stats`."
   ]
  },
  {
   "cell_type": "code",
   "execution_count": 10,
   "metadata": {},
   "outputs": [],
   "source": [
    "from scipy.stats import linregress"
   ]
  },
  {
   "cell_type": "code",
   "execution_count": 11,
   "metadata": {},
   "outputs": [
    {
     "data": {
      "text/plain": [
       "\u001b[0;31mSignature:\u001b[0m \u001b[0mlinregress\u001b[0m\u001b[0;34m(\u001b[0m\u001b[0mx\u001b[0m\u001b[0;34m,\u001b[0m \u001b[0my\u001b[0m\u001b[0;34m=\u001b[0m\u001b[0;32mNone\u001b[0m\u001b[0;34m)\u001b[0m\u001b[0;34m\u001b[0m\u001b[0;34m\u001b[0m\u001b[0m\n",
       "\u001b[0;31mDocstring:\u001b[0m\n",
       "Calculate a linear least-squares regression for two sets of measurements.\n",
       "\n",
       "Parameters\n",
       "----------\n",
       "x, y : array_like\n",
       "    Two sets of measurements.  Both arrays should have the same length.  If\n",
       "    only `x` is given (and ``y=None``), then it must be a two-dimensional\n",
       "    array where one dimension has length 2.  The two sets of measurements\n",
       "    are then found by splitting the array along the length-2 dimension.  In\n",
       "    the case where ``y=None`` and `x` is a 2x2 array, ``linregress(x)`` is\n",
       "    equivalent to ``linregress(x[0], x[1])``.\n",
       "\n",
       "Returns\n",
       "-------\n",
       "slope : float\n",
       "    Slope of the regression line.\n",
       "intercept : float\n",
       "    Intercept of the regression line.\n",
       "rvalue : float\n",
       "    Correlation coefficient.\n",
       "pvalue : float\n",
       "    Two-sided p-value for a hypothesis test whose null hypothesis is\n",
       "    that the slope is zero, using Wald Test with t-distribution of\n",
       "    the test statistic.\n",
       "stderr : float\n",
       "    Standard error of the estimated gradient.\n",
       "\n",
       "See also\n",
       "--------\n",
       ":func:`scipy.optimize.curve_fit` : Use non-linear\n",
       " least squares to fit a function to data.\n",
       ":func:`scipy.optimize.leastsq` : Minimize the sum of\n",
       " squares of a set of equations.\n",
       "\n",
       "Notes\n",
       "-----\n",
       "Missing values are considered pair-wise: if a value is missing in `x`,\n",
       "the corresponding value in `y` is masked.\n",
       "\n",
       "Examples\n",
       "--------\n",
       ">>> import matplotlib.pyplot as plt\n",
       ">>> from scipy import stats\n",
       "\n",
       "Generate some data:\n",
       "\n",
       ">>> np.random.seed(12345678)\n",
       ">>> x = np.random.random(10)\n",
       ">>> y = 1.6*x + np.random.random(10)\n",
       "\n",
       "Perform the linear regression:\n",
       "\n",
       ">>> slope, intercept, r_value, p_value, std_err = stats.linregress(x, y)\n",
       ">>> print(\"slope: %f    intercept: %f\" % (slope, intercept))\n",
       "slope: 1.944864    intercept: 0.268578\n",
       "\n",
       "To get coefficient of determination (R-squared):\n",
       "\n",
       ">>> print(\"R-squared: %f\" % r_value**2)\n",
       "R-squared: 0.735498\n",
       "\n",
       "Plot the data along with the fitted line:\n",
       "\n",
       ">>> plt.plot(x, y, 'o', label='original data')\n",
       ">>> plt.plot(x, intercept + slope*x, 'r', label='fitted line')\n",
       ">>> plt.legend()\n",
       ">>> plt.show()\n",
       "\n",
       "Example for the case where only x is provided as a 2x2 array:\n",
       "\n",
       ">>> x = np.array([[0, 1], [0, 2]])\n",
       ">>> r = stats.linregress(x)\n",
       ">>> r.slope, r.intercept\n",
       "(2.0, 0.0)\n",
       "\u001b[0;31mFile:\u001b[0m      ~/.miniconda3/lib/python3.7/site-packages/scipy/stats/_stats_mstats_common.py\n",
       "\u001b[0;31mType:\u001b[0m      function\n"
      ]
     },
     "metadata": {},
     "output_type": "display_data"
    }
   ],
   "source": [
    "linregress?"
   ]
  },
  {
   "cell_type": "code",
   "execution_count": 12,
   "metadata": {},
   "outputs": [],
   "source": [
    "regresion = linregress(edad, presion)"
   ]
  },
  {
   "cell_type": "code",
   "execution_count": 13,
   "metadata": {},
   "outputs": [
    {
     "data": {
      "text/plain": [
       "LinregressResult(slope=0.9493225373316514, intercept=97.07708426577695, rvalue=0.8439069051978124, pvalue=8.876280872508932e-09, stderr=0.11614451633658138)"
      ]
     },
     "execution_count": 13,
     "metadata": {},
     "output_type": "execute_result"
    }
   ],
   "source": [
    "regresion"
   ]
  },
  {
   "cell_type": "code",
   "execution_count": 14,
   "metadata": {},
   "outputs": [
    {
     "name": "stdout",
     "output_type": "stream",
     "text": [
      "Pendiente: 0.9493225373316514\n"
     ]
    }
   ],
   "source": [
    "print(\"Pendiente:\", regresion.slope)"
   ]
  },
  {
   "cell_type": "code",
   "execution_count": 15,
   "metadata": {},
   "outputs": [
    {
     "name": "stdout",
     "output_type": "stream",
     "text": [
      "Término independiente: 97.07708426577695\n"
     ]
    }
   ],
   "source": [
    "print(\"Término independiente:\", regresion.intercept)"
   ]
  },
  {
   "cell_type": "code",
   "execution_count": 16,
   "metadata": {},
   "outputs": [
    {
     "name": "stdout",
     "output_type": "stream",
     "text": [
      "Coeficiente R^2: 0.7121788646405496\n"
     ]
    }
   ],
   "source": [
    "print(\"Coeficiente R^2:\", regresion.rvalue ** 2)"
   ]
  },
  {
   "cell_type": "markdown",
   "metadata": {},
   "source": [
    "Grafiquemos los datos junto al ajuste"
   ]
  },
  {
   "cell_type": "code",
   "execution_count": 17,
   "metadata": {},
   "outputs": [
    {
     "data": {
      "image/png": "[encoded data removed]",
      "text/plain": [
       "<Figure size 432x288 with 1 Axes>"
      ]
     },
     "metadata": {
      "needs_background": "light"
     },
     "output_type": "display_data"
    }
   ],
   "source": [
    "edades_reg = np.array([edad.min(), edad.max()])\n",
    "presion_reg = regresion.slope * edades_reg + regresion.intercept\n",
    "\n",
    "plt.scatter(edad, presion, label=\"Datos\")\n",
    "plt.plot(edades_reg, presion_reg, color=\"C1\", label=\"Regresión Lineal\")\n",
    "plt.ylim(0, 200)\n",
    "plt.xlabel(\"Edad [años]\")\n",
    "plt.ylabel(\"Presión Sanguinea [mmHg]\")\n",
    "plt.legend()\n",
    "plt.show()"
   ]
  },
  {
   "cell_type": "markdown",
   "metadata": {},
   "source": [
    "## Ejercicio"
   ]
  },
  {
   "cell_type": "markdown",
   "metadata": {},
   "source": [
    "El archivo `blood_pressure.csv` contiene los mismos datos que `blood_pressure.txt`, pero en formato CSV (comma sperated values).\n",
    "\n",
    "1. Cargar el archivo `blood_pressure.csv` a través de `np.loadtxt`.\n",
    "\n",
    "> **Ayuda**\n",
    ">\n",
    "> Revisar la documentación de `np.loadtxt` sobre cómo modificar el caracter que separa las columnas dentro del archivo que se está leyendo."
   ]
  }
 ],
 "metadata": {
  "kernelspec": {
   "display_name": "Python 3",
   "language": "python",
   "name": "python3"
  },
  "language_info": {
   "codemirror_mode": {
    "name": "ipython",
    "version": 3
   },
   "file_extension": ".py",
   "mimetype": "text/x-python",
   "name": "python",
   "nbconvert_exporter": "python",
   "pygments_lexer": "ipython3",
   "version": "3.7.6"
  }
 },
 "nbformat": 4,
 "nbformat_minor": 4
}
