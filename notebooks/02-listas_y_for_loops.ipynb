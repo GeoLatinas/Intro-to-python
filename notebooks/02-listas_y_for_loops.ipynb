{
 "cells": [
  {
   "cell_type": "markdown",
   "metadata": {},
   "source": [
    "# Listas y for loops\n",
    "\n",
    "\n",
    "## Listas = [  ] \n",
    "\n",
    "Las **listas** nos permiten guardar múltiples valores bajo una misma variable.\n",
    "\n",
    "Podemos guardar enteros:"
   ]
  },
  {
   "cell_type": "code",
   "execution_count": null,
   "metadata": {},
   "outputs": [],
   "source": [
    "impares = [1, 3, 5, 7, 9]"
   ]
  },
  {
   "cell_type": "code",
   "execution_count": null,
   "metadata": {},
   "outputs": [],
   "source": [
    "type(impares)"
   ]
  },
  {
   "cell_type": "markdown",
   "metadata": {},
   "source": [
    "Strings:"
   ]
  },
  {
   "cell_type": "code",
   "execution_count": null,
   "metadata": {},
   "outputs": [],
   "source": [
    "variables_medidas = [\"temperatura\", \"presion\", \"humedad\"]"
   ]
  },
  {
   "cell_type": "markdown",
   "metadata": {},
   "source": [
    "Floats:"
   ]
  },
  {
   "cell_type": "code",
   "execution_count": null,
   "metadata": {},
   "outputs": [],
   "source": [
    "temperaturas = [10.1, 14.6, 18.3, 20.3]"
   ]
  },
  {
   "cell_type": "markdown",
   "metadata": {},
   "source": [
    "Podemos acceder a los valores alojados dentro de una lista a través de sus **índices**.\n",
    "Por ejemplo, obtengamos el primer valor de temperatura:"
   ]
  },
  {
   "cell_type": "code",
   "execution_count": null,
   "metadata": {},
   "outputs": [],
   "source": [
    "print(\"Primer valor de temperatura:\", temperaturas[0])\n",
    "print(\"Segundo valor de temperatura:\", temperaturas[1])\n",
    "print(\"Último valor de temperatura:\", temperaturas[-1])\n",
    "print(\"Penúltimo valor de temperatura:\", temperaturas[-2])"
   ]
  },
  {
   "cell_type": "markdown",
   "metadata": {},
   "source": [
    ">**Observaciones:**\n",
    ">\n",
    ">- En Python, el índice 0 indica el primer elemento.\n",
    ">- Índices negativos indican que empezamos a contar desde el último elemento de la lista."
   ]
  },
  {
   "cell_type": "markdown",
   "metadata": {},
   "source": [
    "Los índices además nos permiten modificar los valores de la lista."
   ]
  },
  {
   "cell_type": "code",
   "execution_count": null,
   "metadata": {},
   "outputs": [],
   "source": [
    "temperaturas[0] = -2.3\n",
    "print(temperaturas)"
   ]
  },
  {
   "cell_type": "markdown",
   "metadata": {},
   "source": [
    ">- Las listas poseen un **método** llamado `append` que nos permite agregar valores.\n",
    ">- Las listas no tienen una longitud fija, podemos cambiarla según lo necesitemos."
   ]
  },
  {
   "cell_type": "code",
   "execution_count": null,
   "metadata": {},
   "outputs": [],
   "source": [
    "temperaturas.append(23.5)\n",
    "print(temperaturas)"
   ]
  },
  {
   "cell_type": "markdown",
   "metadata": {},
   "source": [
    "Podemos averiguar la cantidad de elementos que contiene una lista a través de la función `len` (del ingles _length_ que significa longitud)."
   ]
  },
  {
   "cell_type": "code",
   "execution_count": null,
   "metadata": {},
   "outputs": [],
   "source": [
    "len(temperaturas)"
   ]
  },
  {
   "cell_type": "markdown",
   "metadata": {},
   "source": [
    "### Formative Assessment 1\n",
    "\n",
    "¿Cual será el output de la siguiente celda?\n",
    " \n",
    " 1.  [10.1, 14.6, 18.3, 20.3]\n",
    " 2. [12.6, 14.6, 18.3, 20.3]\n",
    " 3.  [10.1, 12.6, 18.3, 20.3]\n"
   ]
  },
  {
   "cell_type": "code",
   "execution_count": null,
   "metadata": {},
   "outputs": [],
   "source": [
    "temperaturas = [10.1, 14.6, 18.3, 20.3]\n",
    "temperaturas[1] = 12.6\n",
    "print(temperaturas)"
   ]
  },
  {
   "cell_type": "markdown",
   "metadata": {},
   "source": [
    "### Slices\n",
    "\n",
    "En caso de que querramos extraer una _porción_ de la lista en vez de un sólo elemento, es posible utilizar **slices**.\n",
    "\n",
    "Si queremos obtener todos los elementos desde el segundo hasta el cuarto, inclusive:"
   ]
  },
  {
   "cell_type": "code",
   "execution_count": null,
   "metadata": {},
   "outputs": [],
   "source": [
    "temperaturas[1:4]"
   ]
  },
  {
   "cell_type": "markdown",
   "metadata": {},
   "source": [
    "Si queremos elegir los **primeros tres** elementos elemetos, la sintaxis es sencilla:"
   ]
  },
  {
   "cell_type": "code",
   "execution_count": null,
   "metadata": {},
   "outputs": [],
   "source": [
    "temperaturas[:3]"
   ]
  },
  {
   "cell_type": "markdown",
   "metadata": {},
   "source": [
    "De manera similar, si queremos obtener todos los elementos **después** del tercero:"
   ]
  },
  {
   "cell_type": "code",
   "execution_count": null,
   "metadata": {},
   "outputs": [],
   "source": [
    "temperaturas[3:]"
   ]
  },
  {
   "cell_type": "markdown",
   "metadata": {},
   "source": [
    "### Formative Assessment 2\n",
    "\n",
    "¿Cual será el output de la siguiente celda?\n",
    " \n",
    " 1.  [30.5, 29.5]\n",
    " 2.  [30.5, 29.5, 28.4]\n",
    " 3.  [28.4, 25.30]\n"
   ]
  },
  {
   "cell_type": "code",
   "execution_count": null,
   "metadata": {},
   "outputs": [],
   "source": [
    "temperaturas_en_argentina = [30.5, 29.5, 28.4, 25.30]\n",
    "temperaturas_en_argentina[:2]"
   ]
  },
  {
   "cell_type": "markdown",
   "metadata": {},
   "source": [
    "### Listas dentro de listas\n",
    "\n",
    "Las listas pueden contener elementos de diferente tipo:"
   ]
  },
  {
   "cell_type": "code",
   "execution_count": null,
   "metadata": {},
   "outputs": [],
   "source": [
    "lista_heterogenea = [\"agua\", 20.1, 52]"
   ]
  },
  {
   "cell_type": "markdown",
   "metadata": {},
   "source": [
    "Incluso listas"
   ]
  },
  {
   "cell_type": "code",
   "execution_count": null,
   "metadata": {},
   "outputs": [],
   "source": [
    "anidadas = [[1, 2, 3], 3.0, \"hielo\"]"
   ]
  },
  {
   "cell_type": "markdown",
   "metadata": {},
   "source": [
    "El primer elemento de `anidadas` es una lista, por ende podemos acceder a ella como ya sabemos:"
   ]
  },
  {
   "cell_type": "code",
   "execution_count": null,
   "metadata": {},
   "outputs": [],
   "source": [
    "anidadas[0]"
   ]
  },
  {
   "cell_type": "markdown",
   "metadata": {},
   "source": [
    "Como `anidadas[0]` también es una lista, podemos acceder a su primer elemento de la siguiente manera:"
   ]
  },
  {
   "cell_type": "code",
   "execution_count": null,
   "metadata": {},
   "outputs": [],
   "source": [
    "anidadas[0][0]"
   ]
  },
  {
   "cell_type": "markdown",
   "metadata": {},
   "source": [
    "### Discusion\n",
    "\n",
    "1. ¿Qué sucede si intentamos acceder al elemento 10 de la lista `[-3.0, -2.0, -1.0]`?\n",
    "2. ¿Es posible crear una lista vacía?\n",
    "3. Dada una lista cualquiera de dós elementos o más, ¿cómo podemos usar un **slice** para acceder a todos sus elementos menos el último?\n",
    "4. Además de `append`, las listas poseen otros **métodos**.\n",
    "    1. Utilice el método `sort` para ordenar la siguiente lista: `[3, 10, 7, 6, -2, 0, -10, 2]`.\n",
    "    2. ¿Qué sucede si lo uso con la siguiente lista: `[\"Tiempo\", \"Densidad\", \"Velocidad\", \"Temperatura\", \"Resistividad\", \"Porosidad\", \"Permeabilidad\"]`? "
   ]
  },
  {
   "cell_type": "markdown",
   "metadata": {},
   "source": [
    "Si quiero acceder al elemento 10 de una lista de 3 elementos voy a recibir un error."
   ]
  },
  {
   "cell_type": "code",
   "execution_count": null,
   "metadata": {},
   "outputs": [],
   "source": [
    "lista = [_______]"
   ]
  },
  {
   "cell_type": "markdown",
   "metadata": {},
   "source": [
    "Python nos permite crear listas vacias:"
   ]
  },
  {
   "cell_type": "code",
   "execution_count": null,
   "metadata": {},
   "outputs": [],
   "source": [
    "lista_vacia = "
   ]
  },
  {
   "cell_type": "markdown",
   "metadata": {},
   "source": [
    "Puedo acceder a todos los elementos de una lista menos el último con slice y el indice negativo (-1) para indicar el último elemento."
   ]
  },
  {
   "cell_type": "code",
   "execution_count": null,
   "metadata": {},
   "outputs": [],
   "source": [
    "lista = [1, 2, 3, 4, 5, 6]\n",
    "lista[____]"
   ]
  },
  {
   "cell_type": "markdown",
   "metadata": {},
   "source": [
    "El método sort nos permite ordenar listas en el lugar, es decir, no crea una nueva lista, sino que ordena la que ya creamos."
   ]
  },
  {
   "cell_type": "code",
   "execution_count": null,
   "metadata": {},
   "outputs": [],
   "source": [
    "lista = [3, 10, 7, 6, -2, 0, -10, 2]\n",
    "lista.sort()"
   ]
  },
  {
   "cell_type": "code",
   "execution_count": null,
   "metadata": {},
   "outputs": [],
   "source": [
    "lista"
   ]
  },
  {
   "cell_type": "markdown",
   "metadata": {},
   "source": [
    "Si ordenamos una lista que tiene `str`, Python lo hace de alfabéticamente:"
   ]
  },
  {
   "cell_type": "code",
   "execution_count": null,
   "metadata": {},
   "outputs": [],
   "source": [
    "variables = [\"Tiempo\", \"Densidad\", \"Velocidad\", \"Temperatura\", \"Resistividad\", \"Porosidad\", \"Permeabilidad\"]\n",
    "variables.___()\n",
    "_________"
   ]
  },
  {
   "cell_type": "markdown",
   "metadata": {},
   "source": [
    "## For loops\n",
    "\n",
    "Los **for loops** nos permiten realizar una misma tarea repetidas veces minimizando la cantidad de código que tenemos que escribir.\n",
    "Se llaman **for loops** porque su lógica puede traducirse como _\"para cada elemento de este grupo, realiza esta tarea\"_.\n",
    "\n",
    "Por ejemplo, supongamos que queremos calcular el cuadrado los números del 2 al 5. Una forma de hacerlo sería:"
   ]
  },
  {
   "cell_type": "code",
   "execution_count": null,
   "metadata": {},
   "outputs": [],
   "source": [
    "print(2 ** 2)\n",
    "print(3 ** 2)\n",
    "print(4 ** 2)\n",
    "print(5 ** 2)"
   ]
  },
  {
   "cell_type": "markdown",
   "metadata": {},
   "source": [
    "Una forma más eficiente sería crear una lista con esos elementos y utilizar un **for loop**:"
   ]
  },
  {
   "cell_type": "code",
   "execution_count": null,
   "metadata": {},
   "outputs": [],
   "source": [
    "numeros = [2, 3, 4, 5]\n",
    "\n",
    "for n in numeros:\n",
    "    print(n ** 2)"
   ]
  },
  {
   "cell_type": "markdown",
   "metadata": {},
   "source": [
    "> **Observaciones**\n",
    ">\n",
    "> - Los for loop son estructuras **anidadas** (nested). Al iniciarlas, la línea debe terminar con dos puntos **:**\n",
    "> - Todas las tareas que deseamos ejecutar dentro del for loop deben estar **indentadas** (una sangría). La indentación la podemos agregar con la tecla Tabulación.\n",
    "> - En Python las indentaciones no son decorativas, sino **funcionales**."
   ]
  },
  {
   "cell_type": "code",
   "execution_count": null,
   "metadata": {},
   "outputs": [],
   "source": [
    "numeros = [2, 3, 4, 5]\n",
    "\n",
    "for n in numeros:\n",
    "    print(n ** 2)\n",
    "    print(\"Este print se ejecuta en cada iteracion\")\n",
    "\n",
    "print(\"Este print no\")"
   ]
  },
  {
   "cell_type": "markdown",
   "metadata": {},
   "source": [
    "Cuando queremos iterar en secuencias de números podemos ahorrarnos código y utilizar la función `range`."
   ]
  },
  {
   "cell_type": "code",
   "execution_count": null,
   "metadata": {},
   "outputs": [],
   "source": [
    "for i in range(10):\n",
    "    print(i)"
   ]
  },
  {
   "cell_type": "markdown",
   "metadata": {},
   "source": [
    "A modo de ejemplo, sumemos todos los números del 1 al 10."
   ]
  },
  {
   "cell_type": "code",
   "execution_count": null,
   "metadata": {},
   "outputs": [],
   "source": [
    "suma = 0\n",
    "for i in range(10):\n",
    "    # Le añadimos un 1 a i para sumar de 1 a 10 y no de 0 a 9\n",
    "    suma = suma + (i + 1)\n",
    "\n",
    "print(suma)"
   ]
  },
  {
   "cell_type": "markdown",
   "metadata": {},
   "source": [
    "También podemos sumar desde 10 a 20:"
   ]
  },
  {
   "cell_type": "code",
   "execution_count": null,
   "metadata": {},
   "outputs": [],
   "source": [
    "suma = 0\n",
    "for i in range(10, 20):\n",
    "    suma += i + 1\n",
    "\n",
    "print(suma)"
   ]
  },
  {
   "cell_type": "markdown",
   "metadata": {},
   "source": [
    "Otra forma de ahorarnos código es incluir los for loops en la misma línea en la que creamos una lista. Esto se conoce como **list comprehension**.\n",
    "\n",
    "Por ejemplo, supongamos que queremos una lista que contenga los primeros 5 números pares:\n",
    "\n",
    "Primero la operacion ---- despues el rango o lista que quieras"
   ]
  },
  {
   "cell_type": "code",
   "execution_count": null,
   "metadata": {},
   "outputs": [],
   "source": [
    "pares = [2 * i for i in range(5)]\n",
    "print(pares)"
   ]
  },
  {
   "cell_type": "markdown",
   "metadata": {},
   "source": [
    "## Ejercicio\n",
    "\n",
    "El mismo colega del notebook anterior nos compartió más datos de temperatura, también en Fahrenheit:"
   ]
  },
  {
   "cell_type": "code",
   "execution_count": null,
   "metadata": {},
   "outputs": [],
   "source": [
    "temperaturas_F = [30.3, 20.1, 46.5, 34.1, 42.3]"
   ]
  },
  {
   "cell_type": "markdown",
   "metadata": {},
   "source": [
    "Creen una lista que contenga dichos valores de temperatura, pero convertidos a grados Celsius utilizando un **for loop**.\n",
    "\n",
    ">Sugerencias:\n",
    "> - Quizás sea útil crear una lista vacía donde guardemos los datos de temperatura en Celsius\n",
    "> - Agregar valores con el método `append`.\n"
   ]
  },
  {
   "cell_type": "markdown",
   "metadata": {},
   "source": [
    "**Bonus**\n",
    "\n",
    "- Pruebe realizar la misma tarea en una sola línea con **list comprehension**."
   ]
  },
  {
   "cell_type": "markdown",
   "metadata": {},
   "source": [
    "### Resolución"
   ]
  },
  {
   "cell_type": "code",
   "execution_count": null,
   "metadata": {},
   "outputs": [],
   "source": [
    "temperaturas_c = "
   ]
  },
  {
   "cell_type": "code",
   "execution_count": null,
   "metadata": {},
   "outputs": [],
   "source": [
    "temperaturas_c"
   ]
  }
 ],
 "metadata": {
  "kernelspec": {
   "display_name": "Python 3",
   "language": "python",
   "name": "python3"
  },
  "language_info": {
   "codemirror_mode": {
    "name": "ipython",
    "version": 3
   },
   "file_extension": ".py",
   "mimetype": "text/x-python",
   "name": "python",
   "nbconvert_exporter": "python",
   "pygments_lexer": "ipython3",
   "version": "3.8.5"
  }
 },
 "nbformat": 4,
 "nbformat_minor": 4
}
