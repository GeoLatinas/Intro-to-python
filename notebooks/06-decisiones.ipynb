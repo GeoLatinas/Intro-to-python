{
 "cells": [
  {
   "cell_type": "markdown",
   "metadata": {},
   "source": [
    "# Tomando decisiones\n",
    "\n",
    "Python nos permite ejecutar algunas acciones en caso de que se satisfagan unas determinadas condiciones. Para ello vamos a utilizar la instrucción `if` con la cual vamos a indicarle que ejecute una cierta tarea solo en el caso de que una dada condición sea _verdadera_.\n",
    "\n",
    "Por ejemplo, supongamos que hemos recibido el pronóstico de temperatura para las próximas tres horas y queremos que nuestro código nos avise si va a helar (temperaturas menores a 0ºC), pero que no lo haga en caso contrario."
   ]
  },
  {
   "cell_type": "code",
   "execution_count": null,
   "metadata": {},
   "outputs": [],
   "source": [
    "temperatura_c = -5\n",
    "\n",
    "if temperatura_c <= 0:\n",
    "    print(\"Va a helar\")"
   ]
  },
  {
   "cell_type": "markdown",
   "metadata": {},
   "source": [
    "Ahora queremos que además nos avise que no va a helar si la temperatura es superior a los 0ºC. Esto lo podemos hacer a través de la instrucción `else`, con la cual indicamos que ejecute una cierta tarea en caso de que todas las condiciones anteriores no sean _verdaderas_."
   ]
  },
  {
   "cell_type": "code",
   "execution_count": null,
   "metadata": {},
   "outputs": [],
   "source": [
    "if temperatura_c <= 0:\n",
    "    print(\"Va a helar\")\n",
    "else:\n",
    "    print(\"No va a helar\")"
   ]
  },
  {
   "cell_type": "markdown",
   "metadata": {},
   "source": [
    "¿Existe un tipo de variable para estas condiciones?"
   ]
  },
  {
   "cell_type": "code",
   "execution_count": null,
   "metadata": {},
   "outputs": [],
   "source": [
    "hiela = (temperatura_c <= 0)"
   ]
  },
  {
   "cell_type": "code",
   "execution_count": null,
   "metadata": {},
   "outputs": [],
   "source": [
    "hiela"
   ]
  },
  {
   "cell_type": "code",
   "execution_count": null,
   "metadata": {},
   "outputs": [],
   "source": [
    "type(hiela)"
   ]
  },
  {
   "cell_type": "markdown",
   "metadata": {},
   "source": [
    "Los `bool`s son variables binarias, es decir, solo pueden almacenar dos valores: `True` (_verdadero_) o `False` (_falso_).\n",
    "\n",
    "> Observación:\n",
    "> - Un `bool` **no** es un `str`, es decir, no es texto."
   ]
  },
  {
   "cell_type": "markdown",
   "metadata": {},
   "source": [
    "Supongamos ahora que deseamos agregar otra alerta: para altas temperaturas (digamos, mayores a 35ºC). Para esto, podemos hacer uso de la instrucción `elif`, con la cual indicamos que ejecute una determinada tarea en caso de que las condiciones **anteriores** no se satisfagan, pero que una determinada condición sí lo haga.\n",
    "\n",
    "El nombre `elif` viene de la unión de  _else_ con _if_."
   ]
  },
  {
   "cell_type": "code",
   "execution_count": null,
   "metadata": {},
   "outputs": [],
   "source": [
    "temperatura = 40\n",
    "\n",
    "if temperatura <= 0:\n",
    "    print(\"Va a helar\")\n",
    "elif temperatura > 35:\n",
    "    print(\"Ola de calor\")\n",
    "else:\n",
    "    print(\"Temperatura normal\")"
   ]
  },
  {
   "cell_type": "markdown",
   "metadata": {},
   "source": [
    "Muchas veces las estructuras `if`, `elif` y `else` las usamos dentro de `for` loops."
   ]
  },
  {
   "cell_type": "code",
   "execution_count": null,
   "metadata": {},
   "outputs": [],
   "source": [
    "temperaturas = [10, 7, 4, -1, -3, 1, 6]\n",
    "\n",
    "for temp in temperaturas:\n",
    "    if temp <= 0:\n",
    "        print(\"Va a helar\")\n",
    "    elif temperatura > 35:\n",
    "        print(\"Ola de calor\")\n",
    "    else:\n",
    "        print(\"No va a helar\")"
   ]
  },
  {
   "cell_type": "markdown",
   "metadata": {},
   "source": [
    "O en funciones:"
   ]
  },
  {
   "cell_type": "code",
   "execution_count": null,
   "metadata": {},
   "outputs": [],
   "source": [
    "def alerta_temperatura(temperatura):\n",
    "    \"\"\"\n",
    "    Imprime alertas de temperaturas muy altas o bajas\n",
    "    \"\"\"\n",
    "    if temperatura <= 0:\n",
    "        print(\"Va a helar\")\n",
    "    elif temperatura > 35:\n",
    "        print(\"Ola de calor\")\n",
    "    else:\n",
    "        print(\"Temperatura normal\")"
   ]
  },
  {
   "cell_type": "code",
   "execution_count": 9,
   "metadata": {},
   "outputs": [
    {
     "name": "stdout",
     "output_type": "stream",
     "text": [
      "Ola de calor\n"
     ]
    }
   ],
   "source": [
    "alerta_temperatura(40)"
   ]
  },
  {
   "cell_type": "markdown",
   "metadata": {},
   "source": [
    "## El signo igual\n",
    "\n",
    "A la hora de comparar valores, Python reconoce los siguientes signos:\n",
    "- `<`: menor\n",
    "- `>`: mayor\n",
    "- `<=`: menor o igual\n",
    "- `>=`: mayor o igual\n",
    "- `==`: igual\n",
    "\n",
    "Observá que para indicar una cantidad _igual_ a otra se usa doble sígno igual para diferenciar el `=` que se utiliza para _asignar variables_."
   ]
  },
  {
   "cell_type": "code",
   "execution_count": 10,
   "metadata": {},
   "outputs": [
    {
     "name": "stdout",
     "output_type": "stream",
     "text": [
      "positivo\n"
     ]
    }
   ],
   "source": [
    "numero = 2\n",
    "\n",
    "if numero > 0:\n",
    "    print(\"positivo\")\n",
    "elif numero == 0:\n",
    "    print(\"cero\")\n",
    "else:\n",
    "    print(\"negativo\")"
   ]
  },
  {
   "cell_type": "markdown",
   "metadata": {},
   "source": [
    "## And y or\n",
    "\n",
    "A veces queremos definir como condición como _verdadera_ cuando dos condiciones independientes sucedan en simultáneo, pero _falsa_ si alguna de las dos es _falsa_.\n",
    "Para ello podemos usar la instrucción `and`."
   ]
  },
  {
   "cell_type": "code",
   "execution_count": 11,
   "metadata": {},
   "outputs": [
    {
     "data": {
      "text/plain": [
       "True"
      ]
     },
     "execution_count": 11,
     "metadata": {},
     "output_type": "execute_result"
    }
   ],
   "source": [
    "temperatura = 10\n",
    "\n",
    "booleano = (temperatura > 0) and (temperatura <= 35)\n",
    "booleano"
   ]
  },
  {
   "cell_type": "markdown",
   "metadata": {},
   "source": [
    "Otro caso podría ser que nuestra condición sea _verdadera_ si alguna de dos condiciones independientes es _verdadera_, pero _falsa_ si ambas son _falsas_.\n",
    "Para ello podemos usar la instrucción `or`."
   ]
  },
  {
   "cell_type": "code",
   "execution_count": 12,
   "metadata": {},
   "outputs": [
    {
     "data": {
      "text/plain": [
       "True"
      ]
     },
     "execution_count": 12,
     "metadata": {},
     "output_type": "execute_result"
    }
   ],
   "source": [
    "temperatura = -1\n",
    "\n",
    "booleano = (temperatura <= 0) or (temperatura > 35)\n",
    "booleano"
   ]
  },
  {
   "cell_type": "markdown",
   "metadata": {},
   "source": [
    "## Bools y Numpy\n",
    "\n",
    "Numpy también nos permite trabajar con `bool`s, lo cual nos va a facilitar muchas tareas, como por ejemplo seleccionar subconjunto de datos de un array a partir de terminada condición.\n",
    "\n",
    "Leamos primero los datos de temperatura provenientes de la ISA (International Standard Atmosphere)."
   ]
  },
  {
   "cell_type": "code",
   "execution_count": 13,
   "metadata": {},
   "outputs": [],
   "source": [
    "import numpy as np\n",
    "import matplotlib.pyplot as plt"
   ]
  },
  {
   "cell_type": "code",
   "execution_count": 14,
   "metadata": {},
   "outputs": [
    {
     "data": {
      "text/plain": [
       "\u001b[0;31mSignature:\u001b[0m\n",
       "\u001b[0mnp\u001b[0m\u001b[0;34m.\u001b[0m\u001b[0mloadtxt\u001b[0m\u001b[0;34m(\u001b[0m\u001b[0;34m\u001b[0m\n",
       "\u001b[0;34m\u001b[0m    \u001b[0mfname\u001b[0m\u001b[0;34m,\u001b[0m\u001b[0;34m\u001b[0m\n",
       "\u001b[0;34m\u001b[0m    \u001b[0mdtype\u001b[0m\u001b[0;34m=\u001b[0m\u001b[0;34m<\u001b[0m\u001b[0;32mclass\u001b[0m \u001b[0;34m'float'\u001b[0m\u001b[0;34m>\u001b[0m\u001b[0;34m,\u001b[0m\u001b[0;34m\u001b[0m\n",
       "\u001b[0;34m\u001b[0m    \u001b[0mcomments\u001b[0m\u001b[0;34m=\u001b[0m\u001b[0;34m'#'\u001b[0m\u001b[0;34m,\u001b[0m\u001b[0;34m\u001b[0m\n",
       "\u001b[0;34m\u001b[0m    \u001b[0mdelimiter\u001b[0m\u001b[0;34m=\u001b[0m\u001b[0;32mNone\u001b[0m\u001b[0;34m,\u001b[0m\u001b[0;34m\u001b[0m\n",
       "\u001b[0;34m\u001b[0m    \u001b[0mconverters\u001b[0m\u001b[0;34m=\u001b[0m\u001b[0;32mNone\u001b[0m\u001b[0;34m,\u001b[0m\u001b[0;34m\u001b[0m\n",
       "\u001b[0;34m\u001b[0m    \u001b[0mskiprows\u001b[0m\u001b[0;34m=\u001b[0m\u001b[0;36m0\u001b[0m\u001b[0;34m,\u001b[0m\u001b[0;34m\u001b[0m\n",
       "\u001b[0;34m\u001b[0m    \u001b[0musecols\u001b[0m\u001b[0;34m=\u001b[0m\u001b[0;32mNone\u001b[0m\u001b[0;34m,\u001b[0m\u001b[0;34m\u001b[0m\n",
       "\u001b[0;34m\u001b[0m    \u001b[0munpack\u001b[0m\u001b[0;34m=\u001b[0m\u001b[0;32mFalse\u001b[0m\u001b[0;34m,\u001b[0m\u001b[0;34m\u001b[0m\n",
       "\u001b[0;34m\u001b[0m    \u001b[0mndmin\u001b[0m\u001b[0;34m=\u001b[0m\u001b[0;36m0\u001b[0m\u001b[0;34m,\u001b[0m\u001b[0;34m\u001b[0m\n",
       "\u001b[0;34m\u001b[0m    \u001b[0mencoding\u001b[0m\u001b[0;34m=\u001b[0m\u001b[0;34m'bytes'\u001b[0m\u001b[0;34m,\u001b[0m\u001b[0;34m\u001b[0m\n",
       "\u001b[0;34m\u001b[0m    \u001b[0mmax_rows\u001b[0m\u001b[0;34m=\u001b[0m\u001b[0;32mNone\u001b[0m\u001b[0;34m,\u001b[0m\u001b[0;34m\u001b[0m\n",
       "\u001b[0;34m\u001b[0m\u001b[0;34m)\u001b[0m\u001b[0;34m\u001b[0m\u001b[0;34m\u001b[0m\u001b[0m\n",
       "\u001b[0;31mDocstring:\u001b[0m\n",
       "Load data from a text file.\n",
       "\n",
       "Each row in the text file must have the same number of values.\n",
       "\n",
       "Parameters\n",
       "----------\n",
       "fname : file, str, or pathlib.Path\n",
       "    File, filename, or generator to read.  If the filename extension is\n",
       "    ``.gz`` or ``.bz2``, the file is first decompressed. Note that\n",
       "    generators should return byte strings.\n",
       "dtype : data-type, optional\n",
       "    Data-type of the resulting array; default: float.  If this is a\n",
       "    structured data-type, the resulting array will be 1-dimensional, and\n",
       "    each row will be interpreted as an element of the array.  In this\n",
       "    case, the number of columns used must match the number of fields in\n",
       "    the data-type.\n",
       "comments : str or sequence of str, optional\n",
       "    The characters or list of characters used to indicate the start of a\n",
       "    comment. None implies no comments. For backwards compatibility, byte\n",
       "    strings will be decoded as 'latin1'. The default is '#'.\n",
       "delimiter : str, optional\n",
       "    The string used to separate values. For backwards compatibility, byte\n",
       "    strings will be decoded as 'latin1'. The default is whitespace.\n",
       "converters : dict, optional\n",
       "    A dictionary mapping column number to a function that will parse the\n",
       "    column string into the desired value.  E.g., if column 0 is a date\n",
       "    string: ``converters = {0: datestr2num}``.  Converters can also be\n",
       "    used to provide a default value for missing data (but see also\n",
       "    `genfromtxt`): ``converters = {3: lambda s: float(s.strip() or 0)}``.\n",
       "    Default: None.\n",
       "skiprows : int, optional\n",
       "    Skip the first `skiprows` lines, including comments; default: 0.\n",
       "usecols : int or sequence, optional\n",
       "    Which columns to read, with 0 being the first. For example,\n",
       "    ``usecols = (1,4,5)`` will extract the 2nd, 5th and 6th columns.\n",
       "    The default, None, results in all columns being read.\n",
       "\n",
       "    .. versionchanged:: 1.11.0\n",
       "        When a single column has to be read it is possible to use\n",
       "        an integer instead of a tuple. E.g ``usecols = 3`` reads the\n",
       "        fourth column the same way as ``usecols = (3,)`` would.\n",
       "unpack : bool, optional\n",
       "    If True, the returned array is transposed, so that arguments may be\n",
       "    unpacked using ``x, y, z = loadtxt(...)``.  When used with a structured\n",
       "    data-type, arrays are returned for each field.  Default is False.\n",
       "ndmin : int, optional\n",
       "    The returned array will have at least `ndmin` dimensions.\n",
       "    Otherwise mono-dimensional axes will be squeezed.\n",
       "    Legal values: 0 (default), 1 or 2.\n",
       "\n",
       "    .. versionadded:: 1.6.0\n",
       "encoding : str, optional\n",
       "    Encoding used to decode the inputfile. Does not apply to input streams.\n",
       "    The special value 'bytes' enables backward compatibility workarounds\n",
       "    that ensures you receive byte arrays as results if possible and passes\n",
       "    'latin1' encoded strings to converters. Override this value to receive\n",
       "    unicode arrays and pass strings as input to converters.  If set to None\n",
       "    the system default is used. The default value is 'bytes'.\n",
       "\n",
       "    .. versionadded:: 1.14.0\n",
       "max_rows : int, optional\n",
       "    Read `max_rows` lines of content after `skiprows` lines. The default\n",
       "    is to read all the lines.\n",
       "\n",
       "    .. versionadded:: 1.16.0\n",
       "\n",
       "Returns\n",
       "-------\n",
       "out : ndarray\n",
       "    Data read from the text file.\n",
       "\n",
       "See Also\n",
       "--------\n",
       "load, fromstring, fromregex\n",
       "genfromtxt : Load data with missing values handled as specified.\n",
       "scipy.io.loadmat : reads MATLAB data files\n",
       "\n",
       "Notes\n",
       "-----\n",
       "This function aims to be a fast reader for simply formatted files.  The\n",
       "`genfromtxt` function provides more sophisticated handling of, e.g.,\n",
       "lines with missing values.\n",
       "\n",
       ".. versionadded:: 1.10.0\n",
       "\n",
       "The strings produced by the Python float.hex method can be used as\n",
       "input for floats.\n",
       "\n",
       "Examples\n",
       "--------\n",
       ">>> from io import StringIO   # StringIO behaves like a file object\n",
       ">>> c = StringIO(u\"0 1\\n2 3\")\n",
       ">>> np.loadtxt(c)\n",
       "array([[0., 1.],\n",
       "       [2., 3.]])\n",
       "\n",
       ">>> d = StringIO(u\"M 21 72\\nF 35 58\")\n",
       ">>> np.loadtxt(d, dtype={'names': ('gender', 'age', 'weight'),\n",
       "...                      'formats': ('S1', 'i4', 'f4')})\n",
       "array([(b'M', 21, 72.), (b'F', 35, 58.)],\n",
       "      dtype=[('gender', 'S1'), ('age', '<i4'), ('weight', '<f4')])\n",
       "\n",
       ">>> c = StringIO(u\"1,0,2\\n3,0,4\")\n",
       ">>> x, y = np.loadtxt(c, delimiter=',', usecols=(0, 2), unpack=True)\n",
       ">>> x\n",
       "array([1., 3.])\n",
       ">>> y\n",
       "array([2., 4.])\n",
       "\u001b[0;31mFile:\u001b[0m      ~/.anaconda3/envs/default/lib/python3.8/site-packages/numpy/lib/npyio.py\n",
       "\u001b[0;31mType:\u001b[0m      function\n"
      ]
     },
     "metadata": {},
     "output_type": "display_data"
    }
   ],
   "source": [
    "np.loadtxt?"
   ]
  },
  {
   "cell_type": "markdown",
   "metadata": {},
   "source": [
    "Podemos utilizar el argumento `unpack` de la función `np.loadtxt()` para indicarle que queremos que las columnas estén _desempaquetadas_. El argumento `unpack` espera un valor de tipo `bool`, por ende pasamos el valor `True`."
   ]
  },
  {
   "cell_type": "code",
   "execution_count": 15,
   "metadata": {},
   "outputs": [],
   "source": [
    "altura, temperatura = np.loadtxt(\"temperatura_atmosferica.dat\", unpack=True)"
   ]
  },
  {
   "cell_type": "code",
   "execution_count": 16,
   "metadata": {},
   "outputs": [
    {
     "data": {
      "image/png": "[encoded data removed]",
      "text/plain": [
       "<Figure size 432x288 with 1 Axes>"
      ]
     },
     "metadata": {
      "needs_background": "light"
     },
     "output_type": "display_data"
    }
   ],
   "source": [
    "plt.plot(altura, temperatura, 'o-')\n",
    "plt.show()"
   ]
  },
  {
   "cell_type": "markdown",
   "metadata": {},
   "source": [
    "¿Qué pasa si evaluamos la siguiente línea?"
   ]
  },
  {
   "cell_type": "code",
   "execution_count": 17,
   "metadata": {},
   "outputs": [
    {
     "data": {
      "text/plain": [
       "array([ True,  True,  True,  True, False, False, False, False])"
      ]
     },
     "execution_count": 17,
     "metadata": {},
     "output_type": "execute_result"
    }
   ],
   "source": [
    "altura < 40000"
   ]
  },
  {
   "cell_type": "markdown",
   "metadata": {},
   "source": [
    "Obtenemos un `array` de tipo `bool`. Es decir, es un `array` que contiene valores de tipo `bool`: `True` o `False`. Este array nos indica qué elementos del arreglo `altura` son menores a 40000m."
   ]
  },
  {
   "cell_type": "markdown",
   "metadata": {},
   "source": [
    "Podemos asignar este array a una determinada variable:"
   ]
  },
  {
   "cell_type": "code",
   "execution_count": 18,
   "metadata": {},
   "outputs": [],
   "source": [
    "atmosfera_baja = altura < 40000"
   ]
  },
  {
   "cell_type": "markdown",
   "metadata": {},
   "source": [
    "Y podemos usar este `array` de `bool`s para obtener otro arreglo que contenga los valores de `altura` que sean menores a 40000m."
   ]
  },
  {
   "cell_type": "code",
   "execution_count": 19,
   "metadata": {},
   "outputs": [
    {
     "data": {
      "text/plain": [
       "array([ -610., 11000., 20000., 32000.])"
      ]
     },
     "execution_count": 19,
     "metadata": {},
     "output_type": "execute_result"
    }
   ],
   "source": [
    "altura[atmosfera_baja]"
   ]
  },
  {
   "cell_type": "markdown",
   "metadata": {},
   "source": [
    "También lo podemos usar para obtener los valores de `temperatura` que correspondan a valores de altura menores a 40000m."
   ]
  },
  {
   "cell_type": "code",
   "execution_count": 20,
   "metadata": {},
   "outputs": [
    {
     "data": {
      "text/plain": [
       "array([ 19. , -56.5, -56.5, -44.5])"
      ]
     },
     "execution_count": 20,
     "metadata": {},
     "output_type": "execute_result"
    }
   ],
   "source": [
    "temperatura[atmosfera_baja]"
   ]
  },
  {
   "cell_type": "code",
   "execution_count": 21,
   "metadata": {},
   "outputs": [
    {
     "data": {
      "image/png": "[encoded data removed]",
      "text/plain": [
       "<Figure size 432x288 with 1 Axes>"
      ]
     },
     "metadata": {
      "needs_background": "light"
     },
     "output_type": "display_data"
    }
   ],
   "source": [
    "plt.plot(altura[atmosfera_baja], temperatura[atmosfera_baja], 'o-')\n",
    "plt.show()"
   ]
  },
  {
   "cell_type": "markdown",
   "metadata": {},
   "source": [
    "## Ejercicio\n",
    "\n",
    "La estratósfera es la capa de la atmósfera comprendida entre los 12km y los 50km sobre el nivel del mar<sup>1</sup>.\n",
    "\n",
    "1. Creá un gráfico que muestre los valores de temperatura atmosférica obtenidos de la ISA (International Standard Atmosphere) únicamente para la estratósfera.\n",
    "\n",
    "> **Ayuda:**\n",
    ">\n",
    "> A la hora de querer utilizar `and` u `or` con `array`s vamos a toparnos con errores. Para evitarlo, utilizá el símbolo `&` (ampresand) para _and_ y `|` (pipe) para _or_.\n",
    "\n",
    "\n",
    "\n",
    "\n",
    "\n",
    "<sup>1</sup> https://en.wikipedia.org/wiki/Atmosphere_of_Earth"
   ]
  },
  {
   "cell_type": "code",
   "execution_count": 22,
   "metadata": {},
   "outputs": [
    {
     "data": {
      "image/png": "[encoded data removed]",
      "text/plain": [
       "<Figure size 432x288 with 1 Axes>"
      ]
     },
     "metadata": {
      "needs_background": "light"
     },
     "output_type": "display_data"
    }
   ],
   "source": [
    "import numpy as np\n",
    "import matplotlib.pyplot as plt\n",
    "\n",
    "altura, temperatura = np.loadtxt(\"temperatura_atmosferica.dat\", unpack=True)\n",
    "\n",
    "estratosfera = (altura >= 12000) & (altura < 50000)\n",
    "\n",
    "plt.plot(altura[estratosfera], temperatura[estratosfera], 'o-')\n",
    "plt.title(\"Temperatura de la estratósfera según la ISA\")\n",
    "plt.xlabel(\"Altura [m]\")\n",
    "plt.ylabel(\"Temperatura [C]\")\n",
    "plt.show()"
   ]
  },
  {
   "cell_type": "code",
   "execution_count": null,
   "metadata": {},
   "outputs": [],
   "source": []
  }
 ],
 "metadata": {
  "kernelspec": {
   "display_name": "Python 3",
   "language": "python",
   "name": "python3"
  },
  "language_info": {
   "codemirror_mode": {
    "name": "ipython",
    "version": 3
   },
   "file_extension": ".py",
   "mimetype": "text/x-python",
   "name": "python",
   "nbconvert_exporter": "python",
   "pygments_lexer": "ipython3",
   "version": "3.8.5"
  }
 },
 "nbformat": 4,
 "nbformat_minor": 4
}
