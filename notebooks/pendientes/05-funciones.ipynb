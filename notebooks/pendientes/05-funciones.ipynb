{
 "cells": [
  {
   "cell_type": "markdown",
   "metadata": {},
   "source": [
    "# Funciones: Cómo encapsular código\n",
    "\n",
    "Algunas tareas que deseamos realizar requieren de muchas líneas de código, lo que dificulta su lectura. Uno de los pilares del lenguaje Python es que podamos escribir código que podamos leer y entender rápidamente.\n",
    "\n",
    "Muchas veces estas tareas no las realizaremos una única vez, sino que vamos a necesitar de ellas en el futuro o para otras aplicaciones.\n",
    "Tener que reescribirlas en cada oportunidad no solo es tedioso, sino que nos arriesgamos a cometer errores.\n",
    "\n",
    "Una solución para estos problemas es encapsular nuestro código en **funciones**, las cuales nos permiten encerrar códigos largos y/o complejos dentro de una _única y simple idea_ la que podemos utilizar o **llamar** de forma sencilla.\n",
    "\n",
    "Por ejemplo, escribamos una función que transforme temperaturas en grados Fahrenheit a grados Celsius."
   ]
  },
  {
   "cell_type": "code",
   "execution_count": 1,
   "metadata": {},
   "outputs": [],
   "source": [
    "def fahrenheit_to_celsius(temperature):\n",
    "    return 5 / 9 * (temperature - 32)"
   ]
  },
  {
   "cell_type": "markdown",
   "metadata": {},
   "source": [
    "La función nos permite convertir un valor de temperatura en Fahrenheit a Celsius"
   ]
  },
  {
   "cell_type": "code",
   "execution_count": 2,
   "metadata": {},
   "outputs": [
    {
     "data": {
      "text/plain": [
       "-12.166666666666666"
      ]
     },
     "execution_count": 2,
     "metadata": {},
     "output_type": "execute_result"
    }
   ],
   "source": [
    "fahrenheit_to_celsius(10.1)"
   ]
  },
  {
   "cell_type": "markdown",
   "metadata": {},
   "source": [
    "O bien, varios valores dentro de un `np.array`"
   ]
  },
  {
   "cell_type": "code",
   "execution_count": 3,
   "metadata": {},
   "outputs": [
    {
     "data": {
      "text/plain": [
       "array([-12.16666667,  -9.66666667,  -7.61111111,  -6.5       ])"
      ]
     },
     "execution_count": 3,
     "metadata": {},
     "output_type": "execute_result"
    }
   ],
   "source": [
    "import numpy as np\n",
    "\n",
    "temperaturas_f = np.array([10.1, 14.6, 18.3, 20.3])\n",
    "fahrenheit_to_celsius(temperaturas_f)"
   ]
  },
  {
   "cell_type": "markdown",
   "metadata": {},
   "source": [
    "¿Cuál es el _tipo_ de una función?"
   ]
  },
  {
   "cell_type": "code",
   "execution_count": 4,
   "metadata": {},
   "outputs": [
    {
     "data": {
      "text/plain": [
       "function"
      ]
     },
     "execution_count": 4,
     "metadata": {},
     "output_type": "execute_result"
    }
   ],
   "source": [
    "type(fahrenheit_to_celsius)"
   ]
  },
  {
   "cell_type": "markdown",
   "metadata": {},
   "source": [
    "> **Observaciones**\n",
    "> - Con la instrucción `def` le indicamos que vamos a definir una función.\n",
    "> - Luego indicamos el nombre de la función, que se comporta de manera similar que las variables.\n",
    "> - **Llamamos** (del inglés _call_) a la función a través de este nombre seguido por paréntesis `()`.\n",
    "> - Dentro de los paréntesis enumeramos los _argumentos_ de la función.\n",
    "> - Al igual que los _for loops_, todo lo que queremos que se ejecute dentro de la función debe ir indentado, dentro del **cuerpo** de la función.\n",
    "> - Con la instrucción `return` le indicamos a la función que finalice su tarea y que _devuelva_ un determinado valor.\n",
    "> - Las funciones de Python **no son** necesariamente funciones matemáticas."
   ]
  },
  {
   "cell_type": "markdown",
   "metadata": {},
   "source": [
    "Por ejemplo, la siguiente función imprime un saludo en base a mi nombre:"
   ]
  },
  {
   "cell_type": "code",
   "execution_count": 5,
   "metadata": {},
   "outputs": [],
   "source": [
    "def saludo(nombre):\n",
    "    print(\"Hola, \" + nombre  + \"!\")"
   ]
  },
  {
   "cell_type": "code",
   "execution_count": 6,
   "metadata": {},
   "outputs": [
    {
     "name": "stdout",
     "output_type": "stream",
     "text": [
      "Hola, Santi!\n"
     ]
    }
   ],
   "source": [
    "saludo(\"Santi\")"
   ]
  },
  {
   "cell_type": "markdown",
   "metadata": {},
   "source": [
    "Como vemos, las funciones no necesariamente tienen que devolver un valor. Si no lo hacen, devuelven una variable `None` (que significa _ningún valor_)."
   ]
  },
  {
   "cell_type": "code",
   "execution_count": 7,
   "metadata": {},
   "outputs": [
    {
     "name": "stdout",
     "output_type": "stream",
     "text": [
      "Hola, Santi!\n"
     ]
    }
   ],
   "source": [
    "resultado = saludo(\"Santi\")"
   ]
  },
  {
   "cell_type": "code",
   "execution_count": 8,
   "metadata": {},
   "outputs": [
    {
     "name": "stdout",
     "output_type": "stream",
     "text": [
      "None\n"
     ]
    }
   ],
   "source": [
    "print(resultado)"
   ]
  },
  {
   "cell_type": "markdown",
   "metadata": {},
   "source": [
    "Las funciones también pueden devolver _varios_ valores. Por ejemplo:"
   ]
  },
  {
   "cell_type": "code",
   "execution_count": 9,
   "metadata": {},
   "outputs": [
    {
     "data": {
      "text/plain": [
       "(4, 8)"
      ]
     },
     "execution_count": 9,
     "metadata": {},
     "output_type": "execute_result"
    }
   ],
   "source": [
    "def potencias(x):\n",
    "    cuadrado = x ** 2\n",
    "    cubo = x ** 3\n",
    "    return cuadrado, cubo\n",
    "\n",
    "potencias(2)"
   ]
  },
  {
   "cell_type": "markdown",
   "metadata": {},
   "source": [
    "Al devolver múltiples valores, las funciones los agrupan en **tuplas**."
   ]
  },
  {
   "cell_type": "markdown",
   "metadata": {},
   "source": [
    "## Ya conocemos algunas funciones...\n",
    "\n",
    "Sin saberlo, ya veníamos utilizando funciones desde la primer clase:\n",
    "- `print()`, `type()`, `len()`\n",
    "- las de `numpy`, como `np.array()`, `np.linspace()`, `np.min()`, `np.max()`, etc\n",
    "- las de `matplotlib.pyplot`, como `plt.plot()`, `plt.show()`, `plt.title()`.\n",
    "\n",
    "Estas funciones fueron definidas por los desarrolladores de las librerías de la misma forma que lo estamos haciendo nosotoros."
   ]
  },
  {
   "cell_type": "markdown",
   "metadata": {},
   "source": [
    "## Buenas Prácticas: Documentación\n",
    "\n",
    "Muchas veces escribimos funciones con la intención de reutilizarlas en el futuro. Es por eso que es importante agregarles una documentación detallando qué realiza la función, si hay que tener cuidados especiales, etc."
   ]
  },
  {
   "cell_type": "code",
   "execution_count": 10,
   "metadata": {},
   "outputs": [],
   "source": [
    "def fahrenheit_to_celsius(temperature):\n",
    "    \"\"\"\n",
    "    Convierte temperaturas en grados Fahrenheit a grados Celsius\n",
    "    \n",
    "    Parameters\n",
    "    ----------\n",
    "    temperature: float or array\n",
    "        Temperatura en grados Fahrenheit a convertir.\n",
    "    \n",
    "    Returns\n",
    "    -------\n",
    "    temperature_c: float or array\n",
    "        Temperatura en grados Celsius.\n",
    "    \"\"\"\n",
    "    return 5 / 9 * (temperature - 32)"
   ]
  },
  {
   "cell_type": "markdown",
   "metadata": {},
   "source": [
    "## Argumentos (o parámetros)\n",
    "\n",
    "Los argumentos son aquellos valores que la función toma como entrada para llevar a cabo sus tareas.\n",
    "Una función puede tener uno o múltiples argumentos:"
   ]
  },
  {
   "cell_type": "code",
   "execution_count": 11,
   "metadata": {},
   "outputs": [
    {
     "data": {
      "text/plain": [
       "13"
      ]
     },
     "execution_count": 11,
     "metadata": {},
     "output_type": "execute_result"
    }
   ],
   "source": [
    "def suma_de_cuadrados(x, y):\n",
    "    return x ** 2 + y ** 2\n",
    "\n",
    "suma_de_cuadrados(2, 3)"
   ]
  },
  {
   "cell_type": "markdown",
   "metadata": {},
   "source": [
    "Existen diferentes tipos de argumentos para una función. Los que vimos hasta ahora son argumentos **posicionales**, que son _obligatorios_ y sus valores son asignados por su posición. Es decir, la función espera que le pasemos valores para esos argumentos cada vez que la llamamos y asigna los valores a variables internas en función de la posición en la que los pasamos.\n",
    "\n",
    "¿Qué pasa si no le pasamos argumentos a una función con un argumento posicional?"
   ]
  },
  {
   "cell_type": "code",
   "execution_count": 12,
   "metadata": {},
   "outputs": [
    {
     "ename": "TypeError",
     "evalue": "saludo() missing 1 required positional argument: 'nombre'",
     "output_type": "error",
     "traceback": [
      "\u001b[0;31m---------------------------------------------------------------------------\u001b[0m",
      "\u001b[0;31mTypeError\u001b[0m                                 Traceback (most recent call last)",
      "\u001b[0;32m<ipython-input-12-42dd5bc0cc91>\u001b[0m in \u001b[0;36m<module>\u001b[0;34m\u001b[0m\n\u001b[1;32m      2\u001b[0m     \u001b[0mprint\u001b[0m\u001b[0;34m(\u001b[0m\u001b[0;34m\"Hola\"\u001b[0m\u001b[0;34m,\u001b[0m \u001b[0mnombre\u001b[0m\u001b[0;34m)\u001b[0m\u001b[0;34m\u001b[0m\u001b[0;34m\u001b[0m\u001b[0m\n\u001b[1;32m      3\u001b[0m \u001b[0;34m\u001b[0m\u001b[0m\n\u001b[0;32m----> 4\u001b[0;31m \u001b[0msaludo\u001b[0m\u001b[0;34m(\u001b[0m\u001b[0;34m)\u001b[0m\u001b[0;34m\u001b[0m\u001b[0;34m\u001b[0m\u001b[0m\n\u001b[0m",
      "\u001b[0;31mTypeError\u001b[0m: saludo() missing 1 required positional argument: 'nombre'"
     ]
    }
   ],
   "source": [
    "def saludo(nombre):\n",
    "    print(\"Hola\", nombre)\n",
    "    \n",
    "saludo()"
   ]
  },
  {
   "cell_type": "markdown",
   "metadata": {},
   "source": [
    "¿Y qué pasa si alteramos el orden?"
   ]
  },
  {
   "cell_type": "code",
   "execution_count": 13,
   "metadata": {},
   "outputs": [
    {
     "name": "stdout",
     "output_type": "stream",
     "text": [
      "0.3333333333333333\n",
      "3.0\n"
     ]
    }
   ],
   "source": [
    "def division(y, x):\n",
    "    return y / x\n",
    "\n",
    "print(division(4, 12))\n",
    "print(division(12, 4))"
   ]
  },
  {
   "cell_type": "markdown",
   "metadata": {},
   "source": [
    "Sin embargo existen otro tipo de argumentos, los argumentos **default**.\n",
    "Estos son opcionales, pero al no especificarlos asumen un valor por default. Podemos identificarlos ya que en la definición de las funciones están acompañados de un `=` y un valor por defecto.\n",
    "\n",
    "Por ejemplo:"
   ]
  },
  {
   "cell_type": "code",
   "execution_count": 14,
   "metadata": {},
   "outputs": [],
   "source": [
    "def seno(x, omega=1):\n",
    "    return np.sin(omega * x)"
   ]
  },
  {
   "cell_type": "code",
   "execution_count": 15,
   "metadata": {},
   "outputs": [
    {
     "data": {
      "text/plain": [
       "0.7071067811865475"
      ]
     },
     "execution_count": 15,
     "metadata": {},
     "output_type": "execute_result"
    }
   ],
   "source": [
    "seno(np.pi / 4)"
   ]
  },
  {
   "cell_type": "code",
   "execution_count": 16,
   "metadata": {},
   "outputs": [
    {
     "data": {
      "text/plain": [
       "1.0"
      ]
     },
     "execution_count": 16,
     "metadata": {},
     "output_type": "execute_result"
    }
   ],
   "source": [
    "seno(np.pi / 4, omega=2)"
   ]
  },
  {
   "cell_type": "code",
   "execution_count": 17,
   "metadata": {},
   "outputs": [
    {
     "data": {
      "image/png": "[encoded data removed]",
      "text/plain": [
       "<Figure size 432x288 with 1 Axes>"
      ]
     },
     "metadata": {
      "needs_background": "light"
     },
     "output_type": "display_data"
    }
   ],
   "source": [
    "import matplotlib.pyplot as plt\n",
    "\n",
    "abscisas = np.linspace(0, 2 * np.pi, 100)\n",
    "\n",
    "plt.plot(abscisas, seno(abscisas))\n",
    "plt.plot(abscisas, seno(abscisas, omega=2))\n",
    "plt.show()"
   ]
  },
  {
   "cell_type": "markdown",
   "metadata": {},
   "source": [
    "# Ejercicio\n",
    "En el notebook anterior graficamos repetidas veces una función gaussiana centrada en cero modificando el parámetro sigma:\n",
    "\n",
    "$$ g(x) = \\frac{1}{\\sigma\\sqrt{2\\pi}} e^{ -\\frac{1}{2}\\left(\\frac{x}{\\sigma}\\right)^2 }. $$\n",
    "\n",
    "Esta tarea podría haber sido más fácil si hubieramos **encapsulado** la función gaussiana dentro de una **función** de Python.\n",
    "Además, definir funciones para realizar cálculos en los que _no nos queremos equivocar_ nos ayuda a prevenir errores. Especialmente si creamos una función con buena documentación que podemos usar en el futuro.\n",
    "Estos hábitos (entre otros) forman parte de lo que se conoce como **buenas prácticas** para el desarrollo de software.\n",
    "\n",
    "1. Escribir una función que evalúe la función Gaussiana y devuelva su valor.\n",
    "2. Dicha función debe poder admitir un valor de $\\sigma$ como argumento, asumiéndolo por defecto igual a 1.\n",
    "3. Añadir una documentación detallada de la función gaussiana. ¿Qué hace la función? ¿Qué argumentos admite? ¿Qué valores devuelve?\n",
    "4. Seleccionar al menos tres valores diferentes de $\\sigma$ y graficar las gaussianas usando un _for loop_.\n",
    "\n",
    "**Bonus track**\n",
    "\n",
    "La expresión generalizada de la función gaussiana es:\n",
    "\n",
    "$$ g(x) = \\frac{1}{\\sigma\\sqrt{2\\pi}} e^{ -\\frac{1}{2}\\left(\\frac{x - \\mu}{\\sigma}\\right)^2 }. $$\n",
    "\n",
    "Donde $\\mu$ indica la abscisa correpondiente al pico de la función.\n",
    "\n",
    "1. Generalice la función anterior para que admita un argumento adicional `mu`, con valor por defecto igual a 0.\n",
    "2. Actualice la documentación de la función para el nuevo valor.\n",
    "3. Seleccione al menos tres valores diferentes de $\\mu$ y grafique las gaussianas para un mismo valor de $\\sigma$."
   ]
  },
  {
   "cell_type": "markdown",
   "metadata": {},
   "source": [
    "### Resolución"
   ]
  },
  {
   "cell_type": "code",
   "execution_count": 18,
   "metadata": {},
   "outputs": [
    {
     "data": {
      "image/png": "[encoded data removed]",
      "text/plain": [
       "<Figure size 432x288 with 1 Axes>"
      ]
     },
     "metadata": {
      "needs_background": "light"
     },
     "output_type": "display_data"
    }
   ],
   "source": [
    "import numpy as np\n",
    "import matplotlib.pyplot as plt\n",
    "\n",
    "\n",
    "def gaussiana(x, sigma=1):\n",
    "    \"\"\"\n",
    "    Función gaussiana centrada en cero\n",
    "    \n",
    "    Parameters\n",
    "    ----------\n",
    "    x : float or array\n",
    "        Valores de las abcisas en las que la función gaussiana será evaluada.\n",
    "    sigma : float (optional)\n",
    "        Desviación estándar. Controla el ancho de la campana de Gauss.\n",
    "        Default to 1.\n",
    "    \n",
    "    Returns\n",
    "    -------\n",
    "    y : float or array\n",
    "        Valores de la función gaussiana evaluada en ``x``.\n",
    "    \"\"\"\n",
    "    return 1 / sigma * 1 / np.sqrt(2 * np.pi) * np.exp(-0.5 * (x / sigma) ** 2)\n",
    "\n",
    "\n",
    "x = np.linspace(-4, 4, 100)\n",
    "\n",
    "sigmas = [0.5, 1, 2]\n",
    "for sigma in sigmas:\n",
    "    label = \"sigma = \" + str(sigma)\n",
    "    plt.plot(x, gaussiana(x, sigma=sigma), label=label)\n",
    "\n",
    "plt.xlabel(\"x\")\n",
    "plt.ylabel(\"y\")\n",
    "plt.legend()\n",
    "plt.show()"
   ]
  },
  {
   "cell_type": "markdown",
   "metadata": {},
   "source": [
    "Generalicemos la función gaussiana incluyendo el parámetro $\\mu$."
   ]
  },
  {
   "cell_type": "code",
   "execution_count": 19,
   "metadata": {},
   "outputs": [
    {
     "data": {
      "image/png": "[encoded data removed]",
      "text/plain": [
       "<Figure size 432x288 with 1 Axes>"
      ]
     },
     "metadata": {
      "needs_background": "light"
     },
     "output_type": "display_data"
    }
   ],
   "source": [
    "import numpy as np\n",
    "import matplotlib.pyplot as plt\n",
    "\n",
    "\n",
    "def gaussiana(x, sigma=1, mu=0):\n",
    "    \"\"\"\n",
    "    Función gaussiana\n",
    "    \n",
    "    Parameters\n",
    "    ----------\n",
    "    x : float or array\n",
    "        Valores de las abscisas en las que la función gaussiana será evaluada.\n",
    "    sigma : float (optional)\n",
    "        Desviación estándar. Controla el ancho de la campana de Gauss.\n",
    "        Default to 1.\n",
    "    mu : float (optional)\n",
    "        Abscisa correspondiente al pico de la función.\n",
    "        Default to 0.\n",
    "    \n",
    "    Returns\n",
    "    -------\n",
    "    y : float or array\n",
    "        Valores de la función gaussiana evaluada en ``x``.\n",
    "    \"\"\"\n",
    "    return 1 / sigma * 1 / np.sqrt(2 * np.pi) * np.exp(-0.5 * ((x - mu) / sigma) ** 2)\n",
    "\n",
    "\n",
    "x = np.linspace(-4, 4, 100)\n",
    "\n",
    "mus = [1, 0, -1]\n",
    "for mu in mus:\n",
    "    label = \"mu = \" + str(mu)\n",
    "    plt.plot(x, gaussiana(x, mu=mu), label=label)\n",
    "\n",
    "plt.xlabel(\"x\")\n",
    "plt.ylabel(\"y\")\n",
    "plt.legend()\n",
    "plt.show()"
   ]
  }
 ],
 "metadata": {
  "kernelspec": {
   "display_name": "Python 3",
   "language": "python",
   "name": "python3"
  },
  "language_info": {
   "codemirror_mode": {
    "name": "ipython",
    "version": 3
   },
   "file_extension": ".py",
   "mimetype": "text/x-python",
   "name": "python",
   "nbconvert_exporter": "python",
   "pygments_lexer": "ipython3",
   "version": "3.8.5"
  }
 },
 "nbformat": 4,
 "nbformat_minor": 4
}
