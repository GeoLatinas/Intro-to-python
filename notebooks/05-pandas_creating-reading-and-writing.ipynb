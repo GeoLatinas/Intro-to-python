{
 "cells": [
  {
   "cell_type": "markdown",
   "metadata": {},
   "source": [
    "# Librerías: Pandas\n",
    "\n",
    "https://pandas.pydata.org/\n",
    "\n",
    "El contenido de este tutorial está basado y fue adaptado del curso de pandas de Kaggle disponible en https://www.kaggle.com/learn/pandas\n",
    "\n",
    "mismo que tiene licencia open source Apache 2.0 http://www.apache.org/licenses/LICENSE-2.0\n",
    "\n"
   ]
  },
  {
   "cell_type": "markdown",
   "metadata": {},
   "source": [
    "## Importando libreria"
   ]
  },
  {
   "cell_type": "code",
   "execution_count": null,
   "metadata": {},
   "outputs": [],
   "source": [
    "import pandas as pd"
   ]
  },
  {
   "cell_type": "markdown",
   "metadata": {},
   "source": [
    "## Creando datos\n",
    "\n",
    "\n",
    "### 1. DataFrame\n",
    "Una primer forma de construir un DataFrame es comenzando a partir de un **diccionario**. Un diccionario en python es una estructura que al igual que las listas y las tuplas, nos permiten almacenar diferentes tipos de datos: Strings, enteros, flotantes, booleanos, tuplas, listas e inclusive otros diccionarios 😯. En un diccionario, todos los valores necesitan tener una **llave** y cada llave necesita tener un valor (definición tomada de https://codigofacilito.com/articulos/diccionarios-python).\n",
    "\n",
    "Por ejemplo, hagamos un diccionario de GeoLatinas, aquí las \"llaves\" = \"keys\" serían el nombre de las columnas (`Rocío` y `Clara`).\n",
    "\n"
   ]
  },
  {
   "cell_type": "code",
   "execution_count": null,
   "metadata": {},
   "outputs": [],
   "source": [
    "diccionario_geolatinas = {'Rocío': ['Soy Peruana', 'Vivo en USA.'], 'Clara': ['Soy venezolana', 'Vivo en UK.']}\n",
    "print(diccionario_geolatinas)"
   ]
  },
  {
   "cell_type": "code",
   "execution_count": null,
   "metadata": {},
   "outputs": [],
   "source": [
    "pd.DataFrame({'Rocío': ['Soy Peruana', 'Vivo en USA.'], 'Clara': ['Soy venezolana', 'Vivo en UK.']})"
   ]
  },
  {
   "cell_type": "markdown",
   "metadata": {},
   "source": [
    "Como vemos, los indices van en orden ascendente a partir de 0, pero esto se puede cambiar usando **index** al construir el dataframe."
   ]
  },
  {
   "cell_type": "code",
   "execution_count": null,
   "metadata": {},
   "outputs": [],
   "source": [
    "pd.DataFrame({'Rocío': ['Soy Peruana', 'Vivo en USA.'], 'Clara': ['Soy venezolana', 'Vivo en UK.']},\n",
    "             index=['Paìs de origen', 'Lugar de residencia'])"
   ]
  },
  {
   "cell_type": "markdown",
   "metadata": {},
   "source": [
    "### 2. Series\n",
    "\n",
    "Si el DataFrame es una tabla, una Serie es una \"columna\" y se puede crear a partir de una lista por ejemplo:"
   ]
  },
  {
   "cell_type": "code",
   "execution_count": null,
   "metadata": {},
   "outputs": [],
   "source": [
    "pd.Series([1, 2, 3, 4, 5])"
   ]
  },
  {
   "cell_type": "markdown",
   "metadata": {},
   "source": [
    "Una serie es en esencia una columna simple de un DataFrame, así que se pueden asignar índices, sin embargo la Serie no tiene un nombre de columna sino un nombre general \"Name\":"
   ]
  },
  {
   "cell_type": "code",
   "execution_count": null,
   "metadata": {},
   "outputs": [],
   "source": [
    "pd.Series([0, 40, 400], index=['2015 ', '2016', '2021'], name='Numero de miembros')"
   ]
  },
  {
   "cell_type": "markdown",
   "metadata": {},
   "source": [
    "## Lectura de archivos de datos\n",
    "\n",
    "Vamos ahora a trabajar con datos que tenemos en un archivo .csv \"comma-separated values\"\n",
    "\n",
    "usando la función `pd.read_csv()`:"
   ]
  },
  {
   "cell_type": "code",
   "execution_count": null,
   "metadata": {},
   "outputs": [],
   "source": [
    "from pathlib import Path # Definimos el path a la carpeta de datos\n",
    "data_folder = Path(\"..\") / \"data\"\n",
    "wine_reviews_file = data_folder /\"winemag-data-130k-v2.csv\""
   ]
  },
  {
   "cell_type": "code",
   "execution_count": null,
   "metadata": {},
   "outputs": [],
   "source": [
    "wine_reviews = pd.read_csv(wine_reviews_file)"
   ]
  },
  {
   "cell_type": "markdown",
   "metadata": {},
   "source": [
    "Usamos el atributo `shape` para saber que tan grande es el DataFrame:\n",
    "\n"
   ]
  },
  {
   "cell_type": "code",
   "execution_count": null,
   "metadata": {},
   "outputs": [],
   "source": [
    "wine_reviews.shape"
   ]
  },
  {
   "cell_type": "markdown",
   "metadata": {},
   "source": [
    "Usamos el atributo `head`para saber que tan grande es el DataFrame:"
   ]
  },
  {
   "cell_type": "code",
   "execution_count": null,
   "metadata": {},
   "outputs": [],
   "source": [
    "wine_reviews.head() "
   ]
  },
  {
   "cell_type": "markdown",
   "metadata": {},
   "source": [
    "La función `pd.read_csv()` tiene alrededor de 30 parámetros opcionales que se pueden especificar. Vemos por ejemplo que pandas creó un índice nuevo, cuando ya el archivo csv tenía su propio índice, así que usando `index_col` podemos pedir que use el índice ya existente."
   ]
  },
  {
   "cell_type": "code",
   "execution_count": null,
   "metadata": {},
   "outputs": [],
   "source": [
    "wine_reviews = pd.read_csv(wine_reviews_file, index_col=0)\n",
    "wine_reviews.head()"
   ]
  },
  {
   "cell_type": "markdown",
   "metadata": {},
   "source": [
    "## Escritura de datos"
   ]
  },
  {
   "cell_type": "code",
   "execution_count": null,
   "metadata": {},
   "outputs": [],
   "source": [
    "fundadoras=pd.DataFrame({'Clara':['Geofísica','Petronas'],'Rocío':['Paleoclimatóloga','Everywhere :)'],'Adriana':['Geofísica','Leeds']})\n",
    "fundadoras.to_csv('fundadoras_geolatinas')"
   ]
  },
  {
   "cell_type": "markdown",
   "metadata": {},
   "source": [
    "# Tu turno!\n",
    "\n"
   ]
  }
 ],
 "metadata": {
  "kernelspec": {
   "display_name": "Python 3",
   "language": "python",
   "name": "python3"
  },
  "language_info": {
   "codemirror_mode": {
    "name": "ipython",
    "version": 3
   },
   "file_extension": ".py",
   "mimetype": "text/x-python",
   "name": "python",
   "nbconvert_exporter": "python",
   "pygments_lexer": "ipython3",
   "version": "3.8.5"
  }
 },
 "nbformat": 4,
 "nbformat_minor": 4
}
