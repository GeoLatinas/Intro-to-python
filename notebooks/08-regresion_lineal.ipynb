{
 "cells": [
  {
   "cell_type": "markdown",
   "metadata": {},
   "source": [
    "# Análisis de datos: Regresión Lineal\n",
    "\n",
    "El análisis y modelado de datos se basa principalmente en hallar las relaciones entre determinadas variables.\n",
    "Para ello obtenemos valores de dichas variables a través de procesos de medición.\n",
    "Luego es necesario inspeccionarlos, para más tarde modelarlos, es decir, intentar hallar una función que los relaciona.\n",
    "\n",
    "Por ejemplo, consideremos los datos de presión sanguinea vs. la edad de las personas que podemos encontrar en el archivo `blood_pressure.txt`."
   ]
  },
  {
   "cell_type": "markdown",
   "metadata": {},
   "source": [
    "Importamos librerias"
   ]
  },
  {
   "cell_type": "code",
   "execution_count": 1,
   "metadata": {},
   "outputs": [],
   "source": [
    "import numpy as np\n",
    "import matplotlib.pyplot as plt"
   ]
  },
  {
   "cell_type": "markdown",
   "metadata": {},
   "source": [
    "Leemos los datos"
   ]
  },
  {
   "cell_type": "code",
   "execution_count": 2,
   "metadata": {},
   "outputs": [],
   "source": [
    "from pathlib import Path # Definimos el path a la carpeta de datos\n",
    "data_folder = Path(\".\") / \"data\"\n",
    "blood_pressure_file = data_folder /\"blood_pressure.txt\""
   ]
  },
  {
   "cell_type": "code",
   "execution_count": 3,
   "metadata": {},
   "outputs": [],
   "source": [
    "edad, presion = np.loadtxt(blood_pressure_file, unpack=True)"
   ]
  },
  {
   "cell_type": "markdown",
   "metadata": {},
   "source": [
    "Visualización de datos\n",
    "\n",
    "En este caso, ya que los datos son valores _dispersos_, haremos uso de la función `pyplot.scatter` para graficarlos:"
   ]
  },
  {
   "cell_type": "code",
   "execution_count": 4,
   "metadata": {},
   "outputs": [
    {
     "data": {
      "image/png": "[encoded data removed]",
      "text/plain": [
       "<Figure size 432x288 with 1 Axes>"
      ]
     },
     "metadata": {
      "needs_background": "light"
     },
     "output_type": "display_data"
    }
   ],
   "source": [
    "plt.scatter(edad, presion)\n",
    "plt.ylim(0, 200)\n",
    "plt.xlabel(\"Edad [años]\")\n",
    "plt.ylabel(\"Presión Sanguinea [mmHg]\")\n",
    "plt.show()"
   ]
  },
  {
   "cell_type": "markdown",
   "metadata": {},
   "source": [
    "A través de la visualización de los datos podemos intuir que existe una relación entre ambas variables. En caso de querer estimar cuál será la presión sanguinea para una edad arbitraria, necesitamos conocer está relación. Para ello necesitamos **modelar** los datos."
   ]
  },
  {
   "cell_type": "markdown",
   "metadata": {},
   "source": [
    "## Regresión Lineal\n",
    "\n",
    "Inicialmente podemos suponer (basado en la visualización de los datos), que  la presión sanguinea se comporta linealmente con la edad de las personas.\n",
    "Es decir, que podemos escribir a la presión sanguinea en función de la edad de la siguiente manera:\n",
    "\n",
    "$$ \\text{presion}(\\text{edad}) = A \\cdot \\text{edad} + B $$\n",
    "\n",
    "Donde $A$ y $B$ son parámetros que desconocemos.\n",
    "Una forma de estimarlos es realizar una **regresión lineal**, la cual consiste en conseguir aquella recta que mejor ajusta a nuestros datos.\n",
    "\n",
    "Esto se puede realizar a través de la función `linregress` de `scipy.stats`."
   ]
  },
  {
   "cell_type": "code",
   "execution_count": 5,
   "metadata": {},
   "outputs": [],
   "source": [
    "from scipy.stats import linregress"
   ]
  },
  {
   "cell_type": "code",
   "execution_count": 6,
   "metadata": {},
   "outputs": [],
   "source": [
    "linregress?"
   ]
  },
  {
   "cell_type": "code",
   "execution_count": 7,
   "metadata": {},
   "outputs": [],
   "source": [
    "regresion = linregress(edad, presion)"
   ]
  },
  {
   "cell_type": "code",
   "execution_count": 8,
   "metadata": {},
   "outputs": [
    {
     "data": {
      "text/plain": [
       "LinregressResult(slope=0.9493225373316514, intercept=97.07708426577695, rvalue=0.8439069051978124, pvalue=8.876280872508932e-09, stderr=0.11614451633658138)"
      ]
     },
     "execution_count": 8,
     "metadata": {},
     "output_type": "execute_result"
    }
   ],
   "source": [
    "regresion"
   ]
  },
  {
   "cell_type": "code",
   "execution_count": 9,
   "metadata": {},
   "outputs": [
    {
     "name": "stdout",
     "output_type": "stream",
     "text": [
      "Pendiente: 0.9493225373316514\n"
     ]
    }
   ],
   "source": [
    "print(\"Pendiente:\", regresion.slope)"
   ]
  },
  {
   "cell_type": "code",
   "execution_count": 10,
   "metadata": {},
   "outputs": [
    {
     "name": "stdout",
     "output_type": "stream",
     "text": [
      "Término independiente: 97.07708426577695\n"
     ]
    }
   ],
   "source": [
    "print(\"Término independiente:\", regresion.intercept)"
   ]
  },
  {
   "cell_type": "code",
   "execution_count": 11,
   "metadata": {},
   "outputs": [
    {
     "name": "stdout",
     "output_type": "stream",
     "text": [
      "Coeficiente R^2: 0.7121788646405496\n"
     ]
    }
   ],
   "source": [
    "print(\"Coeficiente R^2:\", regresion.rvalue ** 2)"
   ]
  },
  {
   "cell_type": "markdown",
   "metadata": {},
   "source": [
    "Grafiquemos los datos junto al ajuste"
   ]
  },
  {
   "cell_type": "code",
   "execution_count": 12,
   "metadata": {},
   "outputs": [
    {
     "data": {
      "image/png": "[encoded data removed]",
      "text/plain": [
       "<Figure size 432x288 with 1 Axes>"
      ]
     },
     "metadata": {
      "needs_background": "light"
     },
     "output_type": "display_data"
    }
   ],
   "source": [
    "edades_reg = np.array([edad.min(), edad.max()])\n",
    "presion_reg = regresion.slope * edades_reg + regresion.intercept\n",
    "\n",
    "plt.scatter(edad, presion, label=\"Datos\")\n",
    "plt.plot(edades_reg, presion_reg, color=\"C1\", label=\"Regresión Lineal\")\n",
    "plt.ylim(0, 200)\n",
    "plt.xlabel(\"Edad [años]\")\n",
    "plt.ylabel(\"Presión Sanguinea [mmHg]\")\n",
    "plt.legend()\n",
    "plt.show()"
   ]
  },
  {
   "cell_type": "markdown",
   "metadata": {},
   "source": [
    "## Ejercicio"
   ]
  },
  {
   "cell_type": "markdown",
   "metadata": {},
   "source": [
    "El archivo `blood_pressure.csv` contiene los mismos datos que `blood_pressure.txt`, pero en formato CSV (comma sperated values).\n",
    "\n",
    "1. Cargar el archivo `blood_pressure.csv` a través de `np.loadtxt`.\n",
    "\n",
    "> **Ayuda**\n",
    ">\n",
    "> Revisar la documentación de `np.loadtxt` sobre cómo modificar el caracter que separa las columnas dentro del archivo que se está leyendo."
   ]
  }
 ],
 "metadata": {
  "kernelspec": {
   "display_name": "Python 3",
   "language": "python",
   "name": "python3"
  },
  "language_info": {
   "codemirror_mode": {
    "name": "ipython",
    "version": 3
   },
   "file_extension": ".py",
   "mimetype": "text/x-python",
   "name": "python",
   "nbconvert_exporter": "python",
   "pygments_lexer": "ipython3",
   "version": "3.8.5"
  }
 },
 "nbformat": 4,
 "nbformat_minor": 4
}
