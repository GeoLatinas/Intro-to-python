{
 "cells": [
  {
   "cell_type": "markdown",
   "metadata": {},
   "source": [
    "# Gráficos\n",
    "\n",
    "Una parte fundamental del análisis de datos es la exploración y visualización de los mismos, lo cual se suele llevar a cabo a través de gráficos.\n",
    "\n",
    "[Matplotlib](https://matplotlib.org/) es una librería que nos permite generar gráficos a partir de nuestros datos de manera rápida y con calidad de publicación."
   ]
  },
  {
   "cell_type": "markdown",
   "metadata": {},
   "source": [
    "## Importando matplotlib\n",
    "\n",
    "Una de las formas más sencillas de hacer uso de esta librería es a través del módulo `pyplot`, al cual lo solemos importar bajo el alias `plt`."
   ]
  },
  {
   "cell_type": "code",
   "execution_count": null,
   "metadata": {},
   "outputs": [],
   "source": [
    "import numpy as np\n",
    "import matplotlib.pyplot as plt"
   ]
  },
  {
   "cell_type": "markdown",
   "metadata": {},
   "source": [
    "## Graficando datos\n",
    "\n",
    "Recolectemos algunos datos de variación normal de la temperatura atmosférica con respecto a la altitud sobre el nivel del mar ([International Standard Atmosphere](https://en.wikipedia.org/wiki/International_Standard_Atmosphere)) y los guardamos en un archivo `temperatura_atmosferica.dat`. Las alturas están en metros sobre el nivel del mar y las temperaturas en grados Celsius.\n",
    "\n",
    "Usemos la función `numpy.loadtxt` para leer el archivo."
   ]
  },
  {
   "cell_type": "code",
   "execution_count": null,
   "metadata": {},
   "outputs": [],
   "source": [
    "datos = np.loadtxt(\"temperatura_atmosferica.dat\")"
   ]
  },
  {
   "cell_type": "code",
   "execution_count": null,
   "metadata": {},
   "outputs": [],
   "source": [
    "datos"
   ]
  },
  {
   "cell_type": "markdown",
   "metadata": {},
   "source": [
    "Podemos extraer las columnas correspondiente a las alturas y temperaturas del array `datos`"
   ]
  },
  {
   "cell_type": "code",
   "execution_count": null,
   "metadata": {},
   "outputs": [],
   "source": [
    "altura, temperatura = datos[:, 0], datos[:, 1]"
   ]
  },
  {
   "cell_type": "markdown",
   "metadata": {},
   "source": [
    "Grafiquemos estos valores:"
   ]
  },
  {
   "cell_type": "code",
   "execution_count": null,
   "metadata": {},
   "outputs": [],
   "source": [
    "plt.plot(altura, temperatura)\n",
    "plt.show()"
   ]
  },
  {
   "cell_type": "markdown",
   "metadata": {},
   "source": [
    "Matplotlib nos permite modificar los marcadores del gráfico"
   ]
  },
  {
   "cell_type": "code",
   "execution_count": null,
   "metadata": {},
   "outputs": [],
   "source": [
    "plt.plot(altura, temperatura, \"o-\")\n",
    "plt.show()"
   ]
  },
  {
   "cell_type": "markdown",
   "metadata": {},
   "source": [
    "Una buena práctica es anotar los ejes coordenados, agregar un título al gráfico y decoraciones adicionales como el grid."
   ]
  },
  {
   "cell_type": "code",
   "execution_count": null,
   "metadata": {},
   "outputs": [],
   "source": [
    "plt.plot(altura, temperatura, \"o-\")\n",
    "plt.xlabel(\"Altura [m]\")\n",
    "plt.ylabel(\"Temperatura [C]\")\n",
    "plt.title(\"Temperatura atmosférica (ISA)\")\n",
    "plt.grid()\n",
    "plt.show()"
   ]
  },
  {
   "cell_type": "markdown",
   "metadata": {},
   "source": [
    "Matplotlib nos permite guardar la gráfica como una imagen png:"
   ]
  },
  {
   "cell_type": "code",
   "execution_count": null,
   "metadata": {},
   "outputs": [],
   "source": [
    "plt.plot(altura, temperatura, \"o\")\n",
    "plt.xlabel(\"Altura [m]\")\n",
    "plt.ylabel(\"Temperatura [C]\")\n",
    "plt.title(\"Temperatura atmosférica (ISA)\")\n",
    "plt.grid()\n",
    "plt.savefig(\"temperatura_atmosferica.png\", dpi=300)\n",
    "plt.show()"
   ]
  },
  {
   "cell_type": "markdown",
   "metadata": {},
   "source": [
    "## Graficando funciones\n",
    "\n",
    "Muchas veces deseamos visualizar gráficamente una función matemática que depende de cierta variable.\n",
    "Por ejemplo, grafiquemos la función seno entre 0 y 2$\\pi$."
   ]
  },
  {
   "cell_type": "code",
   "execution_count": null,
   "metadata": {},
   "outputs": [],
   "source": [
    "x = np.linspace(0, 2 * np.pi, 100)\n",
    "print(x)"
   ]
  },
  {
   "cell_type": "code",
   "execution_count": null,
   "metadata": {},
   "outputs": [],
   "source": [
    "y = np.sin(x)"
   ]
  },
  {
   "cell_type": "code",
   "execution_count": null,
   "metadata": {},
   "outputs": [],
   "source": [
    "plt.plot(x, y)\n",
    "plt.show()"
   ]
  },
  {
   "cell_type": "markdown",
   "metadata": {},
   "source": [
    "## Múltiples curvas en un mismo gráfico\n",
    "\n",
    "¿Cómo podemos incluir varias curvas en un mismo gráfico?"
   ]
  },
  {
   "cell_type": "code",
   "execution_count": null,
   "metadata": {},
   "outputs": [],
   "source": [
    "print(x)"
   ]
  },
  {
   "cell_type": "code",
   "execution_count": null,
   "metadata": {},
   "outputs": [],
   "source": [
    "plt.plot(x, np.sin(x))\n",
    "plt.plot(x, np.sin(2 * x))\n",
    "plt.plot(x, np.sin(3 * x))\n",
    "\n",
    "plt.show()"
   ]
  },
  {
   "cell_type": "code",
   "execution_count": null,
   "metadata": {},
   "outputs": [],
   "source": [
    "plt.plot(x, np.sin(x), linestyle=\"-\", label=\"sin(x)\")\n",
    "plt.plot(x, np.sin(2 * x), linestyle=\"--\", label=\"sin(2x)\")\n",
    "plt.plot(x, np.sin(3 * x), linestyle=\"-.\", label=\"sin(3x)\")\n",
    "\n",
    "plt.legend()\n",
    "plt.show()"
   ]
  },
  {
   "cell_type": "markdown",
   "metadata": {},
   "source": [
    "## Ejercicio:\n",
    "\n",
    "La función gaussiana centrada en cero puede ser escrita como:\n",
    "\n",
    "$$ g(x) = \\frac{1}{\\sigma\\sqrt{2\\pi}} e^{ -\\frac{1}{2}\\left(\\frac{x}{\\sigma}\\right)^2 }. $$\n",
    "\n",
    "Analicemos gráficamente cómo diferentes valores de sigma modifican la forma de la curva de $g(x)$.\n",
    "\n",
    "1. Realice una gráfica de la función gaussiana con al menos tres valores de $\\sigma$.\n",
    "2. La gráfica debe tener:\n",
    "    - ambos ejes identificados,\n",
    "    - un título, y\n",
    "    - una leyenda."
   ]
  }
 ],
 "metadata": {
  "kernelspec": {
   "display_name": "Python 3",
   "language": "python",
   "name": "python3"
  },
  "language_info": {
   "codemirror_mode": {
    "name": "ipython",
    "version": 3
   },
   "file_extension": ".py",
   "mimetype": "text/x-python",
   "name": "python",
   "nbconvert_exporter": "python",
   "pygments_lexer": "ipython3",
   "version": "3.8.5"
  }
 },
 "nbformat": 4,
 "nbformat_minor": 4
}
