{
 "cells": [
  {
   "cell_type": "markdown",
   "metadata": {},
   "source": [
    "# Gráficos\n",
    "\n",
    "Una parte fundamental del análisis de datos es la exploración y visualización de los mismos, lo cual se suele llevar a cabo a través de gráficos.\n",
    "\n",
    "[Matplotlib](https://matplotlib.org/) es una librería que nos permite generar gráficos a partir de nuestros datos de manera rápida y con calidad de publicación."
   ]
  },
  {
   "cell_type": "markdown",
   "metadata": {},
   "source": [
    "## Importando matplotlib\n",
    "\n",
    "Una de las formas más sencillas de hacer uso de esta librería es a través del módulo `pyplot`, al cual lo solemos importar bajo el alias `plt`.\n",
    "\n"
   ]
  },
  {
   "cell_type": "code",
   "execution_count": null,
   "metadata": {},
   "outputs": [],
   "source": [
    "import numpy as np\n",
    "import matplotlib.pyplot as plt"
   ]
  },
  {
   "cell_type": "markdown",
   "metadata": {},
   "source": [
    "## Graficando funciones\n",
    "\n",
    "Muchas veces deseamos visualizar gráficamente una función matemática que depende de cierta variable.\n",
    "Por ejemplo, grafiquemos la función seno entre 0 y 2$\\pi$."
   ]
  },
  {
   "cell_type": "code",
   "execution_count": null,
   "metadata": {},
   "outputs": [],
   "source": [
    "x = np.linspace(0, 2 * np.pi, 100)\n",
    "print(x)"
   ]
  },
  {
   "cell_type": "code",
   "execution_count": null,
   "metadata": {},
   "outputs": [],
   "source": [
    "y = np.sin(x)"
   ]
  },
  {
   "cell_type": "code",
   "execution_count": null,
   "metadata": {},
   "outputs": [],
   "source": [
    "plt.plot(x, y)\n",
    "plt.show()"
   ]
  },
  {
   "cell_type": "markdown",
   "metadata": {},
   "source": [
    "## Múltiples curvas en un mismo gráfico\n",
    "\n",
    "¿Cómo podemos incluir varias curvas en un mismo gráfico?"
   ]
  },
  {
   "cell_type": "code",
   "execution_count": null,
   "metadata": {},
   "outputs": [],
   "source": [
    "print(x)"
   ]
  },
  {
   "cell_type": "code",
   "execution_count": null,
   "metadata": {},
   "outputs": [],
   "source": [
    "plt.plot(x, np.sin(x))\n",
    "plt.plot(x, np.sin(2 * x))\n",
    "plt.plot(x, np.sin(3 * x))\n",
    "\n",
    "plt.show()"
   ]
  },
  {
   "cell_type": "markdown",
   "metadata": {},
   "source": [
    "Podemos modificar el estilo de las líneas, para que puedan ser identificadas no solo con colores, sino tambien por la geometría de sus líneas."
   ]
  },
  {
   "cell_type": "code",
   "execution_count": null,
   "metadata": {},
   "outputs": [],
   "source": [
    "plt.plot(x, np.sin(x), linestyle=\"-\")\n",
    "plt.plot(x, np.sin(2 * x), linestyle=\"--\")\n",
    "plt.plot(x, np.sin(3 * x), linestyle=\"-.\")\n",
    "plt.show()"
   ]
  },
  {
   "cell_type": "markdown",
   "metadata": {},
   "source": [
    "### Buenas prácticas\n",
    "\n",
    "A la hora de visualizar datos y publicarlos, siempre tenemos que asegurarnos de que nuestras figuras cuenten con:\n",
    "\n",
    "- Anotaciones de los ejes coordenados\n",
    "- Unidades de los ejes\n",
    "- Leyenda (si tenemos varios plots en la misma figura)\n",
    "\n",
    "Además, podemos añadir información y algunos detalles como:\n",
    "\n",
    "- Un título\n",
    "- Decoraciones como un grid"
   ]
  },
  {
   "cell_type": "code",
   "execution_count": null,
   "metadata": {},
   "outputs": [],
   "source": [
    "plt.plot(x, np.sin(x), linestyle=\"-\", label=\"sin(x)\")\n",
    "plt.plot(x, np.sin(2 * x), linestyle=\"--\", label=\"sin(2x)\")\n",
    "plt.plot(x, np.sin(3 * x), linestyle=\"-.\", label=\"sin(3x)\")\n",
    "plt.legend()\n",
    "plt.xlabel(\"x\")\n",
    "plt.ylabel(\"y\")\n",
    "plt.grid()\n",
    "plt.show()"
   ]
  },
  {
   "cell_type": "markdown",
   "metadata": {},
   "source": [
    "## Graficando datos\n",
    "\n",
    "Recolectemos datos de temperaturas medias anual de toda el planeta, desde 1850 hasta la actualidad, puestos a disponibilidad por [Berkeley Earth](http://berkeleyearth.org/).\n",
    "Los archivos de datos pueden ser descargados desde su página web, pero en el repositorio ya contamos con una versión simplificada de uno de ellos en `data/temperature-berkeley.dat`.\n",
    "\n",
    "Vamos a importar la clase `Path` de `pathlib` que nos sirve para crear rutas a archivos y carpetas de nuestro disco.\n",
    "Definamos la ruta al archivo de temperaturas. Al utilizar `Path` para esto, nos aseguramos que este código pueda funcionar en diversos sistemas operativos, sin importar qué tipo de separador de directorios utilizan (`/` o `\\`) entre otras diferencias.\n",
    "Recordemos que el símbolo `..` hace referencia al directorio padre del cual en el que estamos paradxs.\n",
    "Dado que el directorio `data` se encuentra al mismo nivel que `notebooks`, debemos \"subir\" un nivel para poder acceder a él."
   ]
  },
  {
   "cell_type": "code",
   "execution_count": null,
   "metadata": {},
   "outputs": [],
   "source": [
    "from pathlib import Path"
   ]
  },
  {
   "cell_type": "code",
   "execution_count": null,
   "metadata": {},
   "outputs": [],
   "source": [
    "berkeley_data_file = Path(\"..\") / \"data\" / \"temperature-berkeley.dat\"\n",
    "berkeley_data_file"
   ]
  },
  {
   "cell_type": "markdown",
   "metadata": {},
   "source": [
    "Usemos la función `numpy.loadtxt` para leer el archivo."
   ]
  },
  {
   "cell_type": "code",
   "execution_count": null,
   "metadata": {},
   "outputs": [],
   "source": [
    "datos = np.loadtxt(berkeley_data_file)\n",
    "datos"
   ]
  },
  {
   "cell_type": "markdown",
   "metadata": {},
   "source": [
    "Podemos extraer las columnas correspondiente años y temperaturas del array `datos`"
   ]
  },
  {
   "cell_type": "code",
   "execution_count": null,
   "metadata": {},
   "outputs": [],
   "source": [
    "years, temperaturas = datos[:, 0], datos[:, 1]"
   ]
  },
  {
   "cell_type": "markdown",
   "metadata": {},
   "source": [
    "Grafiquemos estos valores:"
   ]
  },
  {
   "cell_type": "code",
   "execution_count": null,
   "metadata": {},
   "outputs": [],
   "source": [
    "plt.plot(years, temperaturas)\n",
    "plt.show()"
   ]
  },
  {
   "cell_type": "markdown",
   "metadata": {},
   "source": [
    "Matplotlib nos permite modificar los marcadores del gráfico"
   ]
  },
  {
   "cell_type": "code",
   "execution_count": null,
   "metadata": {},
   "outputs": [],
   "source": [
    "plt.plot(years, temperaturas, \"o\")\n",
    "plt.xlabel(\"Años\")\n",
    "plt.ylabel(\"Temperatura [C]\")\n",
    "plt.title(\"Temperatura media anual de la Tierra\")\n",
    "plt.grid()\n",
    "plt.show()"
   ]
  },
  {
   "cell_type": "markdown",
   "metadata": {},
   "source": [
    "Matplotlib nos permite guardar la gráfica como una imagen png:"
   ]
  },
  {
   "cell_type": "code",
   "execution_count": null,
   "metadata": {},
   "outputs": [],
   "source": [
    "plt.plot(years, temperaturas, \"o\")\n",
    "plt.xlabel(\"Años\")\n",
    "plt.ylabel(\"Temperatura [C]\")\n",
    "plt.title(\"Temperatura media anual de la Tierra\")\n",
    "plt.grid()\n",
    "plt.savefig(\"temperatura.png\", dpi=300)\n",
    "plt.show()"
   ]
  },
  {
   "cell_type": "markdown",
   "metadata": {},
   "source": [
    "O bien como PDF (imagen vectorial):"
   ]
  },
  {
   "cell_type": "code",
   "execution_count": null,
   "metadata": {},
   "outputs": [],
   "source": [
    "plt.plot(years, temperaturas, \"o\")\n",
    "plt.xlabel(\"Años\")\n",
    "plt.ylabel(\"Temperatura [C]\")\n",
    "plt.title(\"Temperatura media anual de la Tierra\")\n",
    "plt.grid()\n",
    "plt.savefig(\"temperatura.pdf\")\n",
    "plt.show()"
   ]
  },
  {
   "cell_type": "markdown",
   "metadata": {},
   "source": [
    "## Otros tipos de gráficos"
   ]
  },
  {
   "cell_type": "markdown",
   "metadata": {},
   "source": [
    "Matplotlib nos permite realizar múltiples tipos de gráficos."
   ]
  },
  {
   "cell_type": "markdown",
   "metadata": {},
   "source": [
    "**Scatter**\n",
    "\n",
    "En caso de que nuestros datos se encuentren dispersos"
   ]
  },
  {
   "cell_type": "code",
   "execution_count": null,
   "metadata": {},
   "outputs": [],
   "source": [
    "plt.scatter(years, temperaturas)\n",
    "plt.show()"
   ]
  },
  {
   "cell_type": "markdown",
   "metadata": {},
   "source": [
    "**Histograma**"
   ]
  },
  {
   "cell_type": "code",
   "execution_count": null,
   "metadata": {},
   "outputs": [],
   "source": [
    "plt.hist(temperaturas)\n",
    "plt.xlabel(\"Temperaturas [C]\")\n",
    "plt.ylabel(\"Frecuencia\")\n",
    "plt.show()"
   ]
  },
  {
   "cell_type": "markdown",
   "metadata": {},
   "source": [
    "## Customizando nuestros gráficos"
   ]
  },
  {
   "cell_type": "markdown",
   "metadata": {},
   "source": [
    "Matplotlib nos permite modificar aspectos visuales de nuestros gráficos."
   ]
  },
  {
   "cell_type": "code",
   "execution_count": null,
   "metadata": {},
   "outputs": [],
   "source": [
    "plt.scatter(years, temperaturas, color=\"red\")\n",
    "plt.xlabel(\"Años\")\n",
    "plt.ylabel(\"Temperatura [C]\")\n",
    "plt.title(\"Temperatura media anual de la Tierra\")\n",
    "plt.show()"
   ]
  },
  {
   "cell_type": "markdown",
   "metadata": {},
   "source": [
    "Aunque es recomendable utilizar los colores predefinidos en la paleta de colores que trae matplotlib, la cual es amigable con determinadas deficiencias visuales (color blindness) y los diferentes colores pueden ser apreciados incluso en impresiones en blanco y negro. Podemos acceder a estos colores a través de los strings `C0`, `C1`, `C2`, ..., `C9`."
   ]
  },
  {
   "cell_type": "code",
   "execution_count": null,
   "metadata": {},
   "outputs": [],
   "source": [
    "colores = [\"C0\", \"C1\", \"C2\", \"C3\", \"C4\", \"C5\", \"C6\", \"C7\", \"C8\", \"C9\"]\n",
    "for color in colores:\n",
    "    plt.scatter(years, temperaturas, color=color)\n",
    "    plt.show()"
   ]
  },
  {
   "cell_type": "markdown",
   "metadata": {},
   "source": [
    "## Ejercicio 1:\n",
    "\n",
    "La función gaussiana centrada en cero puede ser escrita como:\n",
    "\n",
    "$$ g(x) = \\frac{1}{\\sigma\\sqrt{2\\pi}} e^{ -\\frac{1}{2}\\left(\\frac{x}{\\sigma}\\right)^2 }. $$\n",
    "\n",
    "Analicemos gráficamente cómo diferentes valores de sigma modifican la forma de la curva de $g(x)$.\n",
    "\n",
    "1. Realice una gráfica de la función gaussiana con al menos tres valores de $\\sigma$.\n",
    "2. La gráfica debe tener:\n",
    "    - ambos ejes identificados,\n",
    "    - un título, y\n",
    "    - una leyenda."
   ]
  },
  {
   "cell_type": "markdown",
   "metadata": {},
   "source": [
    "## Ejercicio 2:\n",
    "\n",
    "El archivo `data/temperature-central-park.dat` contiene temperaturas medias en Central Park, New York durante los días de Enero de 2021. Los valores de temperatura vienen dados en Fahrenheit.\n",
    "\n",
    "1. Lea el archivo de datos usando `numpy.loadtxt`.\n",
    "2. Convierta los valores de temperaturas de Fahrenheit a Celsius. Ya que no vamos a usar los valores en Fahrenheit, pueden sobreescribir el array donde los guardan.\n",
    "3. Grafique los valores de temperatura utilizando el tipo de gráfico que creas más adecuado.\n",
    "4. Verifica de seguir las mejores prácticas para generar gráficos (ejes anotados, unidades, leyenda, título, etc).\n",
    "5. Guarda la gráfica en un archivo."
   ]
  }
 ],
 "metadata": {
  "kernelspec": {
   "display_name": "Python 3",
   "language": "python",
   "name": "python3"
  },
  "language_info": {
   "codemirror_mode": {
    "name": "ipython",
    "version": 3
   },
   "file_extension": ".py",
   "mimetype": "text/x-python",
   "name": "python",
   "nbconvert_exporter": "python",
   "pygments_lexer": "ipython3",
   "version": "3.8.6"
  }
 },
 "nbformat": 4,
 "nbformat_minor": 4
}
